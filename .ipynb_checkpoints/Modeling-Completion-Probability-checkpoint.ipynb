{
 "cells": [
  {
   "cell_type": "code",
   "execution_count": 1,
   "id": "d8eaf352-08db-4f58-bd6d-15a6f66ddcbd",
   "metadata": {},
   "outputs": [],
   "source": [
    "import pandas as pd\n",
    "import numpy as np\n",
    "import matplotlib.pyplot as plt\n",
    "import torch\n",
    "from sklearn.model_selection import train_test_split, GridSearchCV\n",
    "from sklearn.svm import SVC\n",
    "from sklearn.metrics import accuracy_score, classification_report\n",
    "from sklearn.linear_model import LogisticRegression\n",
    "from sklearn.model_selection import train_test_split, GridSearchCV\n",
    "from sklearn.metrics import accuracy_score, classification_report\n",
    "import xgboost as xgb\n",
    "from sklearn.datasets import make_classification\n",
    "from sklearn.model_selection import train_test_split, cross_val_score\n",
    "import lightgbm as lgb\n",
    "from tqdm import tqdm"
   ]
  },
  {
   "cell_type": "code",
   "execution_count": 2,
   "id": "e59af2fe-3a6f-4e9b-b618-3745e6a7adce",
   "metadata": {},
   "outputs": [],
   "source": [
    "pd.set_option('display.max_columns', None)\n",
    "pd.set_option('display.max_rows', 20)"
   ]
  },
  {
   "cell_type": "code",
   "execution_count": 3,
   "id": "c9446818-5772-4e8a-bd98-5c7ff30d3252",
   "metadata": {},
   "outputs": [],
   "source": [
    "tracking1 = pd.read_csv('./data/nfl-big-data-bowl-2021/week1.csv')\n",
    "tracking2 = pd.read_csv('./data/nfl-big-data-bowl-2021/week2.csv')\n",
    "tracking3 = pd.read_csv('./data/nfl-big-data-bowl-2021/week3.csv')\n",
    "tracking4 = pd.read_csv('./data/nfl-big-data-bowl-2021/week4.csv')\n",
    "tracking5 = pd.read_csv('./data/nfl-big-data-bowl-2021/week5.csv')\n",
    "tracking6 = pd.read_csv('./data/nfl-big-data-bowl-2021/week6.csv')\n",
    "tracking7 = pd.read_csv('./data/nfl-big-data-bowl-2021/week7.csv')\n",
    "tracking8 = pd.read_csv('./data/nfl-big-data-bowl-2021/week8.csv')\n",
    "tracking9 = pd.read_csv('./data/nfl-big-data-bowl-2021/week9.csv')\n",
    "tracking10 = pd.read_csv('./data/nfl-big-data-bowl-2021/week10.csv')\n",
    "tracking11 = pd.read_csv('./data/nfl-big-data-bowl-2021/week11.csv')\n",
    "tracking12 = pd.read_csv('./data/nfl-big-data-bowl-2021/week12.csv')\n",
    "tracking13 = pd.read_csv('./data/nfl-big-data-bowl-2021/week13.csv')\n",
    "tracking14 = pd.read_csv('./data/nfl-big-data-bowl-2021/week14.csv')\n",
    "tracking15 = pd.read_csv('./data/nfl-big-data-bowl-2021/week15.csv')\n",
    "tracking16 = pd.read_csv('./data/nfl-big-data-bowl-2021/week16.csv')\n",
    "tracking17 = pd.read_csv('./data/nfl-big-data-bowl-2021/week17.csv')\n",
    "\n",
    "df = pd.concat([tracking1,\n",
    "                      tracking2,\n",
    "                      tracking3,\n",
    "                      tracking4,\n",
    "                      tracking5,\n",
    "                      tracking6,\n",
    "                      tracking7,\n",
    "                      tracking8,\n",
    "                      tracking9,\n",
    "                      tracking10,\n",
    "                      tracking11,\n",
    "                      tracking12,\n",
    "                      tracking13,\n",
    "                      tracking14,\n",
    "                      tracking15,\n",
    "                      tracking16,\n",
    "                      tracking17\n",
    "                     ], axis=0)\n",
    "\n",
    "plays = pd.read_csv('./data/nfl-big-data-bowl-2021/plays.csv')"
   ]
  },
  {
   "cell_type": "markdown",
   "id": "e1cba718-f2d3-4e96-bf62-7df2f148c3fa",
   "metadata": {},
   "source": [
    "# Process Data"
   ]
  },
  {
   "cell_type": "markdown",
   "id": "dd266056-c1bf-4156-bdd0-d411f9d23fd3",
   "metadata": {},
   "source": [
    "## Get Targeted Receiver"
   ]
  },
  {
   "cell_type": "code",
   "execution_count": 4,
   "id": "3806ff39-f295-4aa4-9d91-dc50c94e4295",
   "metadata": {},
   "outputs": [],
   "source": [
    "defense_positions = ['SS', 'FS', 'MLB', 'CB', 'LB', 'OLB', 'ILB', 'DL', 'DB', 'NT', 'S', 'DE']\n",
    "pass_arrived_time = ['pass_arrived', 'pass_outcome_caught', 'pass_outcome_incomplete', 'pass_outcome_interception', 'pass_outcome_touchdown']"
   ]
  },
  {
   "cell_type": "code",
   "execution_count": 5,
   "id": "dfebff86-4eef-4bd4-825e-422d433f55d3",
   "metadata": {},
   "outputs": [],
   "source": [
    "pass_arrived = df[df['event'].isin(['pass_arrived', 'pass_outcome_caught', 'pass_outcome_incomplete', 'pass_outcome_interception', 'pass_outcome_touchdown'])]\n",
    "ball_positions = pass_arrived[pass_arrived['nflId'].isna()][['gameId', 'playId', 'x', 'y']].rename(columns={'x': 'ball_x', 'y': 'ball_y'})\n",
    "pass_arrived = pass_arrived.merge(ball_positions, on=['gameId', 'playId'], how='left')\n",
    "pass_arrived['distance_to_ball'] = np.sqrt((pass_arrived['x'] - pass_arrived['ball_x'])**2 + (pass_arrived['y'] - pass_arrived['ball_y'])**2)\n",
    "pass_arrived = pass_arrived[~pass_arrived['position'].isin(defense_positions)]\n",
    "pass_arrived = pass_arrived[pass_arrived['nflId'].notna()]\n",
    "pass_arrived = pass_arrived[pass_arrived['distance_to_ball'].notna()]\n",
    "target_receiver = pass_arrived.loc[pass_arrived.groupby(['gameId', 'playId'])['distance_to_ball'].idxmin()][['gameId', 'playId', 'nflId', 'distance_to_ball']]\n",
    "target_receiver = target_receiver.rename(columns={'nflId':'target_receiver_nflId'})\n",
    "target_receiver = target_receiver.drop('distance_to_ball', axis=1)"
   ]
  },
  {
   "cell_type": "markdown",
   "id": "07e52ab0-cc70-422a-8140-daa26a66f663",
   "metadata": {},
   "source": [
    "## Get Target Reciever Position When Ball Thrown"
   ]
  },
  {
   "cell_type": "code",
   "execution_count": 6,
   "id": "b42efe62-3282-4f89-9bf5-fbbcb5abec4b",
   "metadata": {},
   "outputs": [],
   "source": [
    "pass_forward = df[df['event'] == 'pass_forward']\n",
    "pass_forward = pass_forward.merge(target_receiver, on=['gameId', 'playId'], how='left')"
   ]
  },
  {
   "cell_type": "code",
   "execution_count": 7,
   "id": "b4037612-7d63-4056-867f-0a18fca4932c",
   "metadata": {},
   "outputs": [],
   "source": [
    "targeted_reciever_positions = pass_forward.groupby(['gameId', 'playId', 'target_receiver_nflId'])[['x', 'y', 's', 'a', 'dis', 'o', 'dir']].mean()\n",
    "\n",
    "targeted_reciever_positions = targeted_reciever_positions.rename(columns={'x':'targeted_receiver_pass_forward_x', \n",
    "                                            'y':'targeted_receiver_pass_forward_y', \n",
    "                                            's':'targeted_receiver_pass_forward_s', \n",
    "                                            'a':'targeted_receiver_pass_forward_a', \n",
    "                                            'dis':'targeted_receiver_pass_forward_dis', \n",
    "                                            'o':'targeted_receiver_pass_forward_o', \n",
    "                                            'dir':'targeted_receiver_pass_forward_dir'})\n",
    "\n",
    "targeted_receiver_info = target_receiver.merge(targeted_reciever_positions, \n",
    "                      left_on=['gameId', 'playId', 'target_receiver_nflId'], \n",
    "                      right_index=True)"
   ]
  },
  {
   "cell_type": "markdown",
   "id": "63d77007-8591-4a74-9da9-c6c0f526155a",
   "metadata": {},
   "source": [
    "## Get Closest Defender"
   ]
  },
  {
   "cell_type": "code",
   "execution_count": 8,
   "id": "90ec511c-5534-4cb3-902f-689e3bbba9f3",
   "metadata": {},
   "outputs": [],
   "source": [
    "defense_positions_non_line = ['SS', 'FS', 'MLB', 'CB', 'LB', 'OLB', 'ILB', 'DB', 'S']\n",
    "pass_forward_time = ['pass_forward']"
   ]
  },
  {
   "cell_type": "code",
   "execution_count": 9,
   "id": "c57121e7-6326-4c77-ab26-4960ad05404b",
   "metadata": {},
   "outputs": [],
   "source": [
    "pass_forward = df[df['event'].isin(pass_forward_time)]\n",
    "pass_forward = pass_forward[pass_forward['position'].isin(defense_positions_non_line)]\n",
    "pass_forward = pass_forward[pass_forward['nflId'].notna()]\n",
    "pass_forward = pass_forward.merge(targeted_receiver_info, left_on=['gameId', 'playId'], right_on=['gameId', 'playId'])\n",
    "pass_forward['closest_defender_distance_from_target_receiver'] = np.sqrt((pass_forward['x'] - pass_forward['targeted_receiver_pass_forward_x'])**2 + (pass_forward['y'] - pass_forward['targeted_receiver_pass_forward_y'])**2)\n",
    "closest_defenders = pass_forward.loc[pass_forward.groupby(['gameId', 'playId'])['closest_defender_distance_from_target_receiver'].idxmin()][['gameId', 'playId', 'nflId', 'x', 'y', 's', 'a', 'dis', 'o', 'dir', 'closest_defender_distance_from_target_receiver']]\n"
   ]
  },
  {
   "cell_type": "code",
   "execution_count": 10,
   "id": "5fb5bbad-319b-4008-b67e-35c8ded44122",
   "metadata": {},
   "outputs": [],
   "source": [
    "closest_defenders = closest_defenders.rename(columns={\n",
    "                               'nflId':'closest_defender_nflId',\n",
    "                               'x':'closest_defender_pass_forward_x',\n",
    "                               'y':'closest_defender_pass_forward_y',\n",
    "                               's':'closest_defender_pass_forward_s',\n",
    "                               'a':'closest_defender_pass_forward_a',\n",
    "                               'dis':'closest_defender_pass_forward_dis',\n",
    "                               'o':'closest_defender_pass_forward_o',\n",
    "                               'dir':'closest_defender_pass_forward_dir'})"
   ]
  },
  {
   "cell_type": "code",
   "execution_count": 11,
   "id": "b807f1c9-f777-40dc-b72f-96ea4d2932e9",
   "metadata": {},
   "outputs": [],
   "source": [
    "data = closest_defenders.merge(targeted_receiver_info, on=['gameId', 'playId'])"
   ]
  },
  {
   "cell_type": "markdown",
   "id": "5059bb58-7c20-4a2f-8c47-dd23a77e471b",
   "metadata": {},
   "source": [
    "## Get Pass Distance"
   ]
  },
  {
   "cell_type": "code",
   "execution_count": 12,
   "id": "f2f86535-48e7-4daf-92b6-b59923ddee50",
   "metadata": {},
   "outputs": [],
   "source": [
    "football_pass_forward_positions = df[(df['team'] == 'football') & (df['event'] == 'pass_forward')]\n",
    "football_pass_forward_positions = football_pass_forward_positions[['gameId', 'playId', 'x', 'y', 's', 'a', 'dis']]\n",
    "football_pass_forward_positions = football_pass_forward_positions.rename(columns={'x':'football_pass_forward_x', \n",
    "                                                'y':'football_pass_forward_y',\n",
    "                                               's':'football_pass_forward_s',\n",
    "                                               'a':'football_pass_forward_a',\n",
    "                                               'dis':'football_pass_forward_dis'})"
   ]
  },
  {
   "cell_type": "code",
   "execution_count": 13,
   "id": "29248c86-c698-48e1-a631-2b4bf540e5b4",
   "metadata": {},
   "outputs": [],
   "source": [
    "data = data.merge(football_pass_forward_positions, on=['gameId', 'playId'])\n",
    "data['targeted_receiver_distance_from_pass_forward'] = np.sqrt((data['football_pass_forward_x'] - data['targeted_receiver_pass_forward_x'])**2 + (data['football_pass_forward_y'] - data['targeted_receiver_pass_forward_y'])**2)\n",
    "data['closest_defender_distance_from_pass_forward'] = np.sqrt((data['football_pass_forward_x'] - data['closest_defender_pass_forward_x'])**2 + (data['football_pass_forward_y'] - data['closest_defender_pass_forward_y'])**2)\n",
    "\n",
    "\n",
    "\n",
    "\n",
    "\n",
    "\n"
   ]
  },
  {
   "cell_type": "code",
   "execution_count": 14,
   "id": "b647fe32-d7b3-4840-9f94-1ee29c3de4aa",
   "metadata": {},
   "outputs": [],
   "source": [
    "labels = plays.groupby(['gameId', 'playId']).agg('first')['passResult'].reset_index()"
   ]
  },
  {
   "cell_type": "markdown",
   "id": "712e42a3-a581-43ba-9b21-abce7b6c23c2",
   "metadata": {},
   "source": [
    "# Model Completion Probability"
   ]
  },
  {
   "cell_type": "code",
   "execution_count": 15,
   "id": "6e28fd9e-c4b0-4e54-acb6-483f9e2e30f1",
   "metadata": {},
   "outputs": [],
   "source": [
    "data['closest_defender_distance_from_pass_forward_difference'] = data['targeted_receiver_distance_from_pass_forward'] - data['closest_defender_distance_from_pass_forward']\n",
    "data['targeted_receiver_pass_forward_o_dir_diff'] = data['targeted_receiver_pass_forward_o'] - data['targeted_receiver_pass_forward_dir']\n",
    "data['closest_defender_pass_forward_o_dir_diff'] = data['closest_defender_pass_forward_o'] - data['closest_defender_pass_forward_dir']\n",
    "data['targeted_closest_dir_difference'] = data['closest_defender_pass_forward_dir'] - data['targeted_receiver_pass_forward_dir']\n",
    "data['targeted_closest_o_difference'] = data['closest_defender_pass_forward_o'] - data['targeted_receiver_pass_forward_o']"
   ]
  },
  {
   "cell_type": "code",
   "execution_count": 16,
   "id": "b0383df8-de09-4b61-afa9-2080dedfebc1",
   "metadata": {},
   "outputs": [],
   "source": [
    "data = data.merge(labels, on=['gameId', 'playId'])\n",
    "data = data[data['passResult'] != 'S']\n",
    "data['passResult'] = data['passResult'].apply(lambda x: 1 if x == 'C' else 0)\n",
    "y = data['passResult']\n",
    "X = data.drop(['gameId', 'playId', 'passResult', 'closest_defender_nflId', 'target_receiver_nflId'], axis=1)"
   ]
  },
  {
   "cell_type": "code",
   "execution_count": 17,
   "id": "c981bfd1-7c29-4287-b248-5395ad6dfe1c",
   "metadata": {},
   "outputs": [
    {
     "name": "stdout",
     "output_type": "stream",
     "text": [
      "Fitting 5 folds for each of 2 candidates, totalling 10 fits\n",
      "Accuracy: 0.6648801128349788\n",
      "Best Parameters: {'learning_rate': 0.05, 'max_depth': 3, 'min_child_samples': 30, 'n_estimators': 100, 'subsample': 0.8, 'verbosity': -1}\n",
      "Best Cross-Validation Score: 0.6449886692387867\n"
     ]
    }
   ],
   "source": [
    "X_train, X_test, y_train, y_test = train_test_split(X, y, test_size=0.2, random_state=42)\n",
    "\n",
    "model = lgb.LGBMClassifier()\n",
    "\n",
    "param_grid = {\n",
    "    'learning_rate': [0.1, 0.05],\n",
    "    'n_estimators': [100],\n",
    "    'max_depth': [3],\n",
    "    'min_child_samples': [30],\n",
    "    'subsample': [0.8],\n",
    "    'verbosity': [-1]\n",
    "}\n",
    "\n",
    "grid_search = GridSearchCV(estimator=model, param_grid=param_grid, \n",
    "                           scoring='accuracy', cv=5, verbose=1, n_jobs=1)\n",
    "\n",
    "grid_search.fit(X_train, y_train)\n",
    "\n",
    "y_pred = grid_search.predict(X_test)\n",
    "\n",
    "accuracy = accuracy_score(y_test, y_pred)\n",
    "\n",
    "print(f\"Accuracy: {accuracy}\")\n",
    "print(f\"Best Parameters: {grid_search.best_params_}\")\n",
    "print(f\"Best Cross-Validation Score: {grid_search.best_score_}\")\n"
   ]
  },
  {
   "cell_type": "code",
   "execution_count": 18,
   "id": "cd0c5a6a-49db-4f92-8182-b4b5297d56a7",
   "metadata": {},
   "outputs": [
    {
     "data": {
      "image/png": "[encoded data removed]",
      "text/plain": [
       "<Figure size 1000x600 with 1 Axes>"
      ]
     },
     "metadata": {},
     "output_type": "display_data"
    },
    {
     "name": "stdout",
     "output_type": "stream",
     "text": [
      "                                              Feature  Importance\n",
      "20       targeted_receiver_distance_from_pass_forward          65\n",
      "0                     closest_defender_pass_forward_x          45\n",
      "18                            football_pass_forward_a          45\n",
      "16                            football_pass_forward_y          42\n",
      "8                    targeted_receiver_pass_forward_x          38\n",
      "7      closest_defender_distance_from_target_receiver          36\n",
      "12                 targeted_receiver_pass_forward_dis          33\n",
      "10                   targeted_receiver_pass_forward_s          33\n",
      "22  closest_defender_distance_from_pass_forward_di...          33\n",
      "23          targeted_receiver_pass_forward_o_dir_diff          33\n"
     ]
    }
   ],
   "source": [
    "best_model = grid_search.best_estimator_\n",
    "importances = best_model.feature_importances_\n",
    "feature_names = X.columns\n",
    "\n",
    "feature_importance_df = pd.DataFrame({'Feature': feature_names, 'Importance': importances})\n",
    "feature_importance_df = feature_importance_df.sort_values(by='Importance', ascending=False)\n",
    "\n",
    "plt.figure(figsize=(10, 6))\n",
    "plt.barh(feature_importance_df['Feature'], feature_importance_df['Importance'], color='skyblue')\n",
    "plt.xlabel('Importance')\n",
    "plt.title('Feature Importance')\n",
    "plt.gca().invert_yaxis()\n",
    "plt.show()\n",
    "\n",
    "print(feature_importance_df.head(10))\n"
   ]
  },
  {
   "cell_type": "markdown",
   "id": "e08ca15f-bc03-41ad-bc0a-64461dacbd8d",
   "metadata": {},
   "source": [
    "# Apply Model To All Time Frames"
   ]
  },
  {
   "cell_type": "code",
   "execution_count": 19,
   "id": "df275e7f-e4cb-4555-b379-9d8d2cb62b04",
   "metadata": {},
   "outputs": [
    {
     "data": {
      "text/html": [
       "<div>\n",
       "<style scoped>\n",
       "    .dataframe tbody tr th:only-of-type {\n",
       "        vertical-align: middle;\n",
       "    }\n",
       "\n",
       "    .dataframe tbody tr th {\n",
       "        vertical-align: top;\n",
       "    }\n",
       "\n",
       "    .dataframe thead th {\n",
       "        text-align: right;\n",
       "    }\n",
       "</style>\n",
       "<table border=\"1\" class=\"dataframe\">\n",
       "  <thead>\n",
       "    <tr style=\"text-align: right;\">\n",
       "      <th></th>\n",
       "      <th>time</th>\n",
       "      <th>x</th>\n",
       "      <th>y</th>\n",
       "      <th>s</th>\n",
       "      <th>a</th>\n",
       "      <th>dis</th>\n",
       "      <th>o</th>\n",
       "      <th>dir</th>\n",
       "      <th>event</th>\n",
       "      <th>nflId</th>\n",
       "      <th>displayName</th>\n",
       "      <th>jerseyNumber</th>\n",
       "      <th>position</th>\n",
       "      <th>frameId</th>\n",
       "      <th>team</th>\n",
       "      <th>gameId</th>\n",
       "      <th>playId</th>\n",
       "      <th>playDirection</th>\n",
       "      <th>route</th>\n",
       "    </tr>\n",
       "  </thead>\n",
       "  <tbody>\n",
       "    <tr>\n",
       "      <th>0</th>\n",
       "      <td>2018-09-07T01:07:14.599Z</td>\n",
       "      <td>91.73</td>\n",
       "      <td>26.67</td>\n",
       "      <td>0.00</td>\n",
       "      <td>0.01</td>\n",
       "      <td>0.02</td>\n",
       "      <td>289.57</td>\n",
       "      <td>240.93</td>\n",
       "      <td>NaN</td>\n",
       "      <td>310.0</td>\n",
       "      <td>Matt Ryan</td>\n",
       "      <td>2.0</td>\n",
       "      <td>QB</td>\n",
       "      <td>1</td>\n",
       "      <td>away</td>\n",
       "      <td>2018090600</td>\n",
       "      <td>75</td>\n",
       "      <td>left</td>\n",
       "      <td>NaN</td>\n",
       "    </tr>\n",
       "    <tr>\n",
       "      <th>1</th>\n",
       "      <td>2018-09-07T01:07:14.599Z</td>\n",
       "      <td>88.89</td>\n",
       "      <td>36.47</td>\n",
       "      <td>0.01</td>\n",
       "      <td>0.01</td>\n",
       "      <td>0.01</td>\n",
       "      <td>105.63</td>\n",
       "      <td>66.66</td>\n",
       "      <td>NaN</td>\n",
       "      <td>79848.0</td>\n",
       "      <td>Malcolm Jenkins</td>\n",
       "      <td>27.0</td>\n",
       "      <td>SS</td>\n",
       "      <td>1</td>\n",
       "      <td>home</td>\n",
       "      <td>2018090600</td>\n",
       "      <td>75</td>\n",
       "      <td>left</td>\n",
       "      <td>NaN</td>\n",
       "    </tr>\n",
       "    <tr>\n",
       "      <th>2</th>\n",
       "      <td>2018-09-07T01:07:14.599Z</td>\n",
       "      <td>91.35</td>\n",
       "      <td>44.16</td>\n",
       "      <td>0.02</td>\n",
       "      <td>0.03</td>\n",
       "      <td>0.01</td>\n",
       "      <td>290.45</td>\n",
       "      <td>16.86</td>\n",
       "      <td>NaN</td>\n",
       "      <td>2495454.0</td>\n",
       "      <td>Julio Jones</td>\n",
       "      <td>11.0</td>\n",
       "      <td>WR</td>\n",
       "      <td>1</td>\n",
       "      <td>away</td>\n",
       "      <td>2018090600</td>\n",
       "      <td>75</td>\n",
       "      <td>left</td>\n",
       "      <td>HITCH</td>\n",
       "    </tr>\n",
       "    <tr>\n",
       "      <th>3</th>\n",
       "      <td>2018-09-07T01:07:14.599Z</td>\n",
       "      <td>86.31</td>\n",
       "      <td>22.01</td>\n",
       "      <td>0.09</td>\n",
       "      <td>0.42</td>\n",
       "      <td>0.01</td>\n",
       "      <td>70.12</td>\n",
       "      <td>168.91</td>\n",
       "      <td>NaN</td>\n",
       "      <td>2495613.0</td>\n",
       "      <td>Corey Graham</td>\n",
       "      <td>24.0</td>\n",
       "      <td>FS</td>\n",
       "      <td>1</td>\n",
       "      <td>home</td>\n",
       "      <td>2018090600</td>\n",
       "      <td>75</td>\n",
       "      <td>left</td>\n",
       "      <td>NaN</td>\n",
       "    </tr>\n",
       "    <tr>\n",
       "      <th>4</th>\n",
       "      <td>2018-09-07T01:07:14.599Z</td>\n",
       "      <td>90.78</td>\n",
       "      <td>36.15</td>\n",
       "      <td>0.00</td>\n",
       "      <td>0.00</td>\n",
       "      <td>0.00</td>\n",
       "      <td>257.61</td>\n",
       "      <td>193.97</td>\n",
       "      <td>NaN</td>\n",
       "      <td>2533040.0</td>\n",
       "      <td>Mohamed Sanu</td>\n",
       "      <td>12.0</td>\n",
       "      <td>WR</td>\n",
       "      <td>1</td>\n",
       "      <td>away</td>\n",
       "      <td>2018090600</td>\n",
       "      <td>75</td>\n",
       "      <td>left</td>\n",
       "      <td>HITCH</td>\n",
       "    </tr>\n",
       "    <tr>\n",
       "      <th>...</th>\n",
       "      <td>...</td>\n",
       "      <td>...</td>\n",
       "      <td>...</td>\n",
       "      <td>...</td>\n",
       "      <td>...</td>\n",
       "      <td>...</td>\n",
       "      <td>...</td>\n",
       "      <td>...</td>\n",
       "      <td>...</td>\n",
       "      <td>...</td>\n",
       "      <td>...</td>\n",
       "      <td>...</td>\n",
       "      <td>...</td>\n",
       "      <td>...</td>\n",
       "      <td>...</td>\n",
       "      <td>...</td>\n",
       "      <td>...</td>\n",
       "      <td>...</td>\n",
       "      <td>...</td>\n",
       "    </tr>\n",
       "    <tr>\n",
       "      <th>78989</th>\n",
       "      <td>2018-09-07T04:24:10.900Z</td>\n",
       "      <td>10.68</td>\n",
       "      <td>41.17</td>\n",
       "      <td>0.03</td>\n",
       "      <td>0.45</td>\n",
       "      <td>0.00</td>\n",
       "      <td>156.63</td>\n",
       "      <td>198.20</td>\n",
       "      <td>NaN</td>\n",
       "      <td>2555383.0</td>\n",
       "      <td>Jalen Mills</td>\n",
       "      <td>31.0</td>\n",
       "      <td>CB</td>\n",
       "      <td>55</td>\n",
       "      <td>home</td>\n",
       "      <td>2018090600</td>\n",
       "      <td>4472</td>\n",
       "      <td>left</td>\n",
       "      <td>NaN</td>\n",
       "    </tr>\n",
       "    <tr>\n",
       "      <th>78990</th>\n",
       "      <td>2018-09-07T04:24:10.900Z</td>\n",
       "      <td>1.32</td>\n",
       "      <td>24.39</td>\n",
       "      <td>1.26</td>\n",
       "      <td>1.17</td>\n",
       "      <td>0.13</td>\n",
       "      <td>207.52</td>\n",
       "      <td>193.99</td>\n",
       "      <td>NaN</td>\n",
       "      <td>2555415.0</td>\n",
       "      <td>Austin Hooper</td>\n",
       "      <td>81.0</td>\n",
       "      <td>TE</td>\n",
       "      <td>55</td>\n",
       "      <td>away</td>\n",
       "      <td>2018090600</td>\n",
       "      <td>4472</td>\n",
       "      <td>left</td>\n",
       "      <td>GO</td>\n",
       "    </tr>\n",
       "    <tr>\n",
       "      <th>78991</th>\n",
       "      <td>2018-09-07T04:24:10.900Z</td>\n",
       "      <td>9.26</td>\n",
       "      <td>8.97</td>\n",
       "      <td>1.35</td>\n",
       "      <td>0.82</td>\n",
       "      <td>0.14</td>\n",
       "      <td>193.35</td>\n",
       "      <td>178.45</td>\n",
       "      <td>NaN</td>\n",
       "      <td>2557958.0</td>\n",
       "      <td>Sidney Jones</td>\n",
       "      <td>22.0</td>\n",
       "      <td>CB</td>\n",
       "      <td>55</td>\n",
       "      <td>home</td>\n",
       "      <td>2018090600</td>\n",
       "      <td>4472</td>\n",
       "      <td>left</td>\n",
       "      <td>NaN</td>\n",
       "    </tr>\n",
       "    <tr>\n",
       "      <th>78992</th>\n",
       "      <td>2018-09-07T04:24:10.900Z</td>\n",
       "      <td>16.01</td>\n",
       "      <td>38.77</td>\n",
       "      <td>0.85</td>\n",
       "      <td>0.45</td>\n",
       "      <td>0.08</td>\n",
       "      <td>132.89</td>\n",
       "      <td>110.26</td>\n",
       "      <td>NaN</td>\n",
       "      <td>2560854.0</td>\n",
       "      <td>Calvin Ridley</td>\n",
       "      <td>18.0</td>\n",
       "      <td>WR</td>\n",
       "      <td>55</td>\n",
       "      <td>away</td>\n",
       "      <td>2018090600</td>\n",
       "      <td>4472</td>\n",
       "      <td>left</td>\n",
       "      <td>FLAT</td>\n",
       "    </tr>\n",
       "    <tr>\n",
       "      <th>78993</th>\n",
       "      <td>2018-09-07T04:24:10.900Z</td>\n",
       "      <td>5.18</td>\n",
       "      <td>-2.02</td>\n",
       "      <td>2.16</td>\n",
       "      <td>2.10</td>\n",
       "      <td>0.21</td>\n",
       "      <td>NaN</td>\n",
       "      <td>NaN</td>\n",
       "      <td>NaN</td>\n",
       "      <td>NaN</td>\n",
       "      <td>Football</td>\n",
       "      <td>NaN</td>\n",
       "      <td>NaN</td>\n",
       "      <td>55</td>\n",
       "      <td>football</td>\n",
       "      <td>2018090600</td>\n",
       "      <td>4472</td>\n",
       "      <td>left</td>\n",
       "      <td>NaN</td>\n",
       "    </tr>\n",
       "  </tbody>\n",
       "</table>\n",
       "<p>78994 rows × 19 columns</p>\n",
       "</div>"
      ],
      "text/plain": [
       "                           time      x      y     s     a   dis       o  \\\n",
       "0      2018-09-07T01:07:14.599Z  91.73  26.67  0.00  0.01  0.02  289.57   \n",
       "1      2018-09-07T01:07:14.599Z  88.89  36.47  0.01  0.01  0.01  105.63   \n",
       "2      2018-09-07T01:07:14.599Z  91.35  44.16  0.02  0.03  0.01  290.45   \n",
       "3      2018-09-07T01:07:14.599Z  86.31  22.01  0.09  0.42  0.01   70.12   \n",
       "4      2018-09-07T01:07:14.599Z  90.78  36.15  0.00  0.00  0.00  257.61   \n",
       "...                         ...    ...    ...   ...   ...   ...     ...   \n",
       "78989  2018-09-07T04:24:10.900Z  10.68  41.17  0.03  0.45  0.00  156.63   \n",
       "78990  2018-09-07T04:24:10.900Z   1.32  24.39  1.26  1.17  0.13  207.52   \n",
       "78991  2018-09-07T04:24:10.900Z   9.26   8.97  1.35  0.82  0.14  193.35   \n",
       "78992  2018-09-07T04:24:10.900Z  16.01  38.77  0.85  0.45  0.08  132.89   \n",
       "78993  2018-09-07T04:24:10.900Z   5.18  -2.02  2.16  2.10  0.21     NaN   \n",
       "\n",
       "          dir event      nflId      displayName  jerseyNumber position  \\\n",
       "0      240.93   NaN      310.0        Matt Ryan           2.0       QB   \n",
       "1       66.66   NaN    79848.0  Malcolm Jenkins          27.0       SS   \n",
       "2       16.86   NaN  2495454.0      Julio Jones          11.0       WR   \n",
       "3      168.91   NaN  2495613.0     Corey Graham          24.0       FS   \n",
       "4      193.97   NaN  2533040.0     Mohamed Sanu          12.0       WR   \n",
       "...       ...   ...        ...              ...           ...      ...   \n",
       "78989  198.20   NaN  2555383.0      Jalen Mills          31.0       CB   \n",
       "78990  193.99   NaN  2555415.0    Austin Hooper          81.0       TE   \n",
       "78991  178.45   NaN  2557958.0     Sidney Jones          22.0       CB   \n",
       "78992  110.26   NaN  2560854.0    Calvin Ridley          18.0       WR   \n",
       "78993     NaN   NaN        NaN         Football           NaN      NaN   \n",
       "\n",
       "       frameId      team      gameId  playId playDirection  route  \n",
       "0            1      away  2018090600      75          left    NaN  \n",
       "1            1      home  2018090600      75          left    NaN  \n",
       "2            1      away  2018090600      75          left  HITCH  \n",
       "3            1      home  2018090600      75          left    NaN  \n",
       "4            1      away  2018090600      75          left  HITCH  \n",
       "...        ...       ...         ...     ...           ...    ...  \n",
       "78989       55      home  2018090600    4472          left    NaN  \n",
       "78990       55      away  2018090600    4472          left     GO  \n",
       "78991       55      home  2018090600    4472          left    NaN  \n",
       "78992       55      away  2018090600    4472          left   FLAT  \n",
       "78993       55  football  2018090600    4472          left    NaN  \n",
       "\n",
       "[78994 rows x 19 columns]"
      ]
     },
     "execution_count": 19,
     "metadata": {},
     "output_type": "execute_result"
    }
   ],
   "source": [
    "df[df['gameId'] == 2018090600]"
   ]
  },
  {
   "cell_type": "code",
   "execution_count": 42,
   "id": "dad74457-ccb8-46d4-8d6e-79e084be728a",
   "metadata": {},
   "outputs": [
    {
     "name": "stdout",
     "output_type": "stream",
     "text": [
      "week 3\n"
     ]
    },
    {
     "name": "stderr",
     "output_type": "stream",
     "text": [
      "Processing receivers: 100%|████████████| 312589/312589 [36:10<00:00, 143.99it/s]\n"
     ]
    },
    {
     "name": "stdout",
     "output_type": "stream",
     "text": [
      "week 4\n"
     ]
    },
    {
     "name": "stderr",
     "output_type": "stream",
     "text": [
      "Processing receivers: 100%|████████████| 320737/320737 [37:50<00:00, 141.28it/s]\n"
     ]
    },
    {
     "name": "stdout",
     "output_type": "stream",
     "text": [
      "week 5\n"
     ]
    },
    {
     "name": "stderr",
     "output_type": "stream",
     "text": [
      "Processing receivers: 100%|████████████| 312930/312930 [36:01<00:00, 144.76it/s]\n"
     ]
    },
    {
     "name": "stdout",
     "output_type": "stream",
     "text": [
      "week 6\n"
     ]
    },
    {
     "name": "stderr",
     "output_type": "stream",
     "text": [
      "Processing receivers: 100%|████████████| 287635/287635 [29:59<00:00, 159.87it/s]\n"
     ]
    },
    {
     "name": "stdout",
     "output_type": "stream",
     "text": [
      "week 7\n"
     ]
    },
    {
     "name": "stderr",
     "output_type": "stream",
     "text": [
      "Processing receivers: 100%|████████████| 262074/262074 [26:14<00:00, 166.43it/s]\n"
     ]
    },
    {
     "name": "stdout",
     "output_type": "stream",
     "text": [
      "week 8\n"
     ]
    },
    {
     "name": "stderr",
     "output_type": "stream",
     "text": [
      "Processing receivers: 100%|████████████| 266155/266155 [26:47<00:00, 165.56it/s]\n"
     ]
    },
    {
     "name": "stdout",
     "output_type": "stream",
     "text": [
      "week 9\n"
     ]
    },
    {
     "name": "stderr",
     "output_type": "stream",
     "text": [
      "Processing receivers: 100%|████████████| 253161/253161 [25:40<00:00, 164.29it/s]\n"
     ]
    },
    {
     "name": "stdout",
     "output_type": "stream",
     "text": [
      "week 10\n"
     ]
    },
    {
     "name": "stderr",
     "output_type": "stream",
     "text": [
      "Processing receivers: 100%|████████████| 255400/255400 [25:49<00:00, 164.81it/s]\n"
     ]
    },
    {
     "name": "stdout",
     "output_type": "stream",
     "text": [
      "week 11\n"
     ]
    },
    {
     "name": "stderr",
     "output_type": "stream",
     "text": [
      "Processing receivers: 100%|████████████| 248031/248031 [25:01<00:00, 165.17it/s]\n"
     ]
    },
    {
     "name": "stdout",
     "output_type": "stream",
     "text": [
      "week 12\n"
     ]
    },
    {
     "name": "stderr",
     "output_type": "stream",
     "text": [
      "Processing receivers: 100%|████████████| 271884/271884 [29:03<00:00, 155.94it/s]\n"
     ]
    },
    {
     "name": "stdout",
     "output_type": "stream",
     "text": [
      "week 13\n"
     ]
    },
    {
     "name": "stderr",
     "output_type": "stream",
     "text": [
      "Processing receivers: 100%|████████████| 314128/314128 [36:21<00:00, 144.00it/s]\n"
     ]
    },
    {
     "name": "stdout",
     "output_type": "stream",
     "text": [
      "week 14\n"
     ]
    },
    {
     "name": "stderr",
     "output_type": "stream",
     "text": [
      "Processing receivers: 100%|████████████| 308241/308241 [37:16<00:00, 137.80it/s]\n"
     ]
    },
    {
     "name": "stdout",
     "output_type": "stream",
     "text": [
      "week 15\n"
     ]
    },
    {
     "name": "stderr",
     "output_type": "stream",
     "text": [
      "Processing receivers: 100%|██████████| 287854/287854 [13:38:23<00:00,  5.86it/s]\n"
     ]
    },
    {
     "name": "stdout",
     "output_type": "stream",
     "text": [
      "week 16\n"
     ]
    },
    {
     "name": "stderr",
     "output_type": "stream",
     "text": [
      "Processing receivers: 100%|████████████| 303975/303975 [38:27<00:00, 131.72it/s]\n"
     ]
    },
    {
     "name": "stdout",
     "output_type": "stream",
     "text": [
      "week 17\n"
     ]
    },
    {
     "name": "stderr",
     "output_type": "stream",
     "text": [
      "Processing receivers: 100%|████████████| 276000/276000 [33:37<00:00, 136.81it/s]\n"
     ]
    }
   ],
   "source": [
    "# Specify the gameId, playId, and frameId for testing\n",
    "# test_game_id = 2018090600  # Replace with the gameId you want to test\n",
    "# test_play_ids = [75, 4472]  # Replace with the playIds you want to test\n",
    "\n",
    "# Filter the dataframe for the selected gameId and playIds\n",
    "# df_test = df[(df['gameId'] == test_game_id) & (df['playId'].isin(test_play_ids))]\n",
    "# df = tracking1.copy()\n",
    "\n",
    "weeks = [\n",
    "          tracking1,\n",
    "          tracking2,\n",
    "          tracking3,\n",
    "          tracking4,\n",
    "          tracking5,\n",
    "          tracking6,\n",
    "          tracking7,\n",
    "          tracking8,\n",
    "          tracking9,\n",
    "          tracking10,\n",
    "          tracking11,\n",
    "          tracking12,\n",
    "          tracking13,\n",
    "          tracking14,\n",
    "          tracking15,\n",
    "          tracking16,\n",
    "          tracking17\n",
    "        ]\n",
    "\n",
    "for i, week in enumerate(weeks):\n",
    "    \n",
    "    print(f\"week {i+1}\")\n",
    "    df = week.copy()\n",
    "    # Filter receivers (e.g., WR) and defenders (e.g., CB)\n",
    "    receivers = df[df['position'].isin(['WR', 'TE'])]\n",
    "    defenders = df[df['position'].isin(defense_positions_non_line)]\n",
    "    \n",
    "    # Initialize a list to store the data for the new dataframe\n",
    "    data_for_new_df = []\n",
    "    \n",
    "    # Iterate through each frameId of the receiver and find the closest defender at each frameId\n",
    "    for _, receiver in tqdm(receivers.iterrows(), total=receivers.shape[0], desc=\"Processing receivers\"):\n",
    "        # Filter defenders for the same gameId and playId as the receiver at the same frameId\n",
    "        defenders_in_frame = defenders[(defenders['gameId'] == receiver['gameId']) & \n",
    "                                       (defenders['playId'] == receiver['playId']) & \n",
    "                                       (defenders['frameId'] == receiver['frameId'])]\n",
    "\n",
    "        \n",
    "        # Calculate the Euclidean distance between the receiver and all defenders at the same frameId\n",
    "        distances = np.sqrt((defenders_in_frame['x'] - receiver['x'])**2 + (defenders_in_frame['y'] - receiver['y'])**2)\n",
    "\n",
    "        if len(distances) == 0:\n",
    "            continue\n",
    "        \n",
    "        # Find the index of the closest defender\n",
    "        closest_defender_idx = distances.idxmin()\n",
    "        closest_defender = defenders_in_frame.loc[closest_defender_idx]\n",
    "        \n",
    "        # Calculate the closest defender distance from the receiver\n",
    "        closest_defender_distance = distances.min()\n",
    "        \n",
    "        # Filter the football position (nflId is NaN) at the same frameId\n",
    "        football = df[df['nflId'].isna() & (df['frameId'] == receiver['frameId'])]\n",
    "        \n",
    "        # Get football position at the same frameId\n",
    "        if not football.empty:\n",
    "            football_position = football.iloc[0]\n",
    "        else:\n",
    "            football_position = None\n",
    "        \n",
    "        # Calculate various distances and differences\n",
    "        targeted_receiver_distance_from_pass_forward = np.nan  # You can add this calculation based on the football's position\n",
    "        closest_defender_distance_from_pass_forward = np.nan  # Similarly, add calculation here\n",
    "        \n",
    "        # For now, assuming distance calculations between the football and the receiver/defender at pass frameId\n",
    "        if football_position is not None:\n",
    "            targeted_receiver_distance_from_pass_forward = np.sqrt(\n",
    "                (receiver['x'] - football_position['x'])**2 + (receiver['y'] - football_position['y'])**2)\n",
    "            \n",
    "            closest_defender_distance_from_pass_forward = np.sqrt(\n",
    "                (closest_defender['x'] - football_position['x'])**2 + (closest_defender['y'] - football_position['y'])**2)\n",
    "            \n",
    "        \n",
    "        # Add the data to the list\n",
    "        data_for_new_df.append({\n",
    "            'gameId':receiver['gameId'],\n",
    "            'playId':receiver['playId'],\n",
    "            'frameId':receiver['frameId'],\n",
    "            'receiver_nflId':receiver['nflId'],\n",
    "            'closest_defender_nflId':closest_defender['nflId'],\n",
    "            'closest_defender_pass_forward_x': closest_defender['x'],\n",
    "            'closest_defender_pass_forward_y': closest_defender['y'],\n",
    "            'closest_defender_pass_forward_s': closest_defender['s'],\n",
    "            'closest_defender_pass_forward_a': closest_defender['a'],\n",
    "            'closest_defender_pass_forward_dis': closest_defender['dis'],\n",
    "            'closest_defender_pass_forward_o': closest_defender['o'],\n",
    "            'closest_defender_pass_forward_dir': closest_defender['dir'],\n",
    "            'closest_defender_distance_from_target_receiver': closest_defender_distance, \n",
    "            \n",
    "            'targeted_receiver_pass_forward_x': receiver['x'],\n",
    "            'targeted_receiver_pass_forward_y': receiver['y'],\n",
    "            'targeted_receiver_pass_forward_s': receiver['s'],\n",
    "            'targeted_receiver_pass_forward_a': receiver['a'],\n",
    "            'targeted_receiver_pass_forward_dis': receiver['dis'],\n",
    "            'targeted_receiver_pass_forward_o': receiver['o'],\n",
    "            'targeted_receiver_pass_forward_dir': receiver['dir'],\n",
    "            \n",
    "            'football_pass_forward_x': football_position['x'] if football_position is not None else np.nan,\n",
    "            'football_pass_forward_y': football_position['y'] if football_position is not None else np.nan,\n",
    "            'football_pass_forward_s': football_position['s'] if football_position is not None else np.nan,\n",
    "            'football_pass_forward_a': football_position['a'] if football_position is not None else np.nan,\n",
    "            'football_pass_forward_dis': football_position['dis'] if football_position is not None else np.nan,\n",
    "            \n",
    "            'targeted_receiver_distance_from_pass_forward': targeted_receiver_distance_from_pass_forward,\n",
    "            'closest_defender_distance_from_pass_forward': closest_defender_distance_from_pass_forward,\n",
    "            \n",
    "            'closest_defender_distance_from_pass_forward_difference': targeted_receiver_distance_from_pass_forward - closest_defender_distance_from_pass_forward,\n",
    "            \n",
    "            'targeted_receiver_pass_forward_o_dir_diff': receiver['o'] - receiver['dir'],\n",
    "            'closest_defender_pass_forward_o_dir_diff': closest_defender['o'] - closest_defender['dir'],\n",
    "            \n",
    "            'targeted_closest_dir_difference': receiver['dir'] - closest_defender['dir'],\n",
    "            'targeted_closest_o_difference': receiver['o'] - closest_defender['o']\n",
    "        })\n",
    "    \n",
    "    # Convert the list into a DataFrame\n",
    "    new_df = pd.DataFrame(data_for_new_df)\n",
    "\n",
    "    probabilities = grid_search.predict_proba(new_df.iloc[:, 5:])\n",
    "    probabilities = probabilities[:, 1]\n",
    "\n",
    "    new_df = new_df.join(pd.Series(probabilities, name='completion_probability'))\n",
    "    new_df.to_csv(f\"./output/completion_probabilities_week{i+1}.csv\", index=False)\n",
    "    "
   ]
  },
  {
   "cell_type": "code",
   "execution_count": null,
   "id": "a922b079-80f2-441d-aaf7-0e95a2a0c244",
   "metadata": {},
   "outputs": [],
   "source": []
  }
 ],
 "metadata": {
  "kernelspec": {
   "display_name": "Python 3 (ipykernel)",
   "language": "python",
   "name": "python3"
  },
  "language_info": {
   "codemirror_mode": {
    "name": "ipython",
    "version": 3
   },
   "file_extension": ".py",
   "mimetype": "text/x-python",
   "name": "python",
   "nbconvert_exporter": "python",
   "pygments_lexer": "ipython3",
   "version": "3.11.10"
  }
 },
 "nbformat": 4,
 "nbformat_minor": 5
}
