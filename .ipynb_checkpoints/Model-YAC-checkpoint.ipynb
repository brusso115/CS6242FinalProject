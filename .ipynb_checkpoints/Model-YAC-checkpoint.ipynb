{
 "cells": [
  {
   "cell_type": "code",
   "execution_count": 51,
   "id": "2eae53f6-ad56-4395-9306-642886075f99",
   "metadata": {},
   "outputs": [],
   "source": [
    "import pandas as pd\n",
    "import numpy as np\n",
    "import matplotlib.pyplot as plt\n",
    "from sklearn.model_selection import train_test_split, GridSearchCV\n",
    "from sklearn.svm import SVC\n",
    "from sklearn.metrics import accuracy_score, classification_report\n",
    "from sklearn.linear_model import LogisticRegression\n",
    "from sklearn.model_selection import train_test_split, GridSearchCV\n",
    "from sklearn.metrics import accuracy_score, classification_report\n",
    "import xgboost as xgb\n",
    "from sklearn.datasets import make_classification\n",
    "from sklearn.model_selection import train_test_split, cross_val_score\n",
    "import lightgbm as lgb\n",
    "from tqdm import tqdm\n",
    "from sklearn.metrics import mean_squared_error, r2_score\n",
    "from sklearn.linear_model import LinearRegression"
   ]
  },
  {
   "cell_type": "code",
   "execution_count": 52,
   "id": "fe40636e-6500-429a-9bef-0b2195fd1799",
   "metadata": {},
   "outputs": [],
   "source": [
    "tracking1 = pd.read_csv('./data/nfl-big-data-bowl-2021/week1.csv')\n",
    "tracking2 = pd.read_csv('./data/nfl-big-data-bowl-2021/week2.csv')\n",
    "tracking3 = pd.read_csv('./data/nfl-big-data-bowl-2021/week3.csv')\n",
    "tracking4 = pd.read_csv('./data/nfl-big-data-bowl-2021/week4.csv')\n",
    "tracking5 = pd.read_csv('./data/nfl-big-data-bowl-2021/week5.csv')\n",
    "tracking6 = pd.read_csv('./data/nfl-big-data-bowl-2021/week6.csv')\n",
    "tracking7 = pd.read_csv('./data/nfl-big-data-bowl-2021/week7.csv')\n",
    "tracking8 = pd.read_csv('./data/nfl-big-data-bowl-2021/week8.csv')\n",
    "tracking9 = pd.read_csv('./data/nfl-big-data-bowl-2021/week9.csv')\n",
    "tracking10 = pd.read_csv('./data/nfl-big-data-bowl-2021/week10.csv')\n",
    "tracking11 = pd.read_csv('./data/nfl-big-data-bowl-2021/week11.csv')\n",
    "tracking12 = pd.read_csv('./data/nfl-big-data-bowl-2021/week12.csv')\n",
    "tracking13 = pd.read_csv('./data/nfl-big-data-bowl-2021/week13.csv')\n",
    "tracking14 = pd.read_csv('./data/nfl-big-data-bowl-2021/week14.csv')\n",
    "tracking15 = pd.read_csv('./data/nfl-big-data-bowl-2021/week15.csv')\n",
    "tracking16 = pd.read_csv('./data/nfl-big-data-bowl-2021/week16.csv')\n",
    "tracking17 = pd.read_csv('./data/nfl-big-data-bowl-2021/week17.csv')\n",
    "\n",
    "df = pd.concat([tracking1,\n",
    "                      tracking2,\n",
    "                      tracking3,\n",
    "                      tracking4,\n",
    "                      tracking5,\n",
    "                      tracking6,\n",
    "                      tracking7,\n",
    "                      tracking8,\n",
    "                      tracking9,\n",
    "                      tracking10,\n",
    "                      tracking11,\n",
    "                      tracking12,\n",
    "                      tracking13,\n",
    "                      tracking14,\n",
    "                      tracking15,\n",
    "                      tracking16,\n",
    "                      tracking17\n",
    "                     ], axis=0)"
   ]
  },
  {
   "cell_type": "code",
   "execution_count": 53,
   "id": "3ca4a4c8-9994-41aa-88ff-22c03c949212",
   "metadata": {},
   "outputs": [],
   "source": [
    "plays = pd.read_csv('./data/nfl-big-data-bowl-2021/plays.csv')\n",
    "plays = plays[['gameId', 'playId', 'absoluteYardlineNumber']]"
   ]
  },
  {
   "cell_type": "code",
   "execution_count": 54,
   "id": "4299c8c6-5636-4044-81db-d89aceb8ffa6",
   "metadata": {},
   "outputs": [
    {
     "data": {
      "text/plain": [
       "array([nan, 'ball_snap', 'pass_forward', 'pass_arrived',\n",
       "       'pass_outcome_caught', 'out_of_bounds', 'pass_outcome_incomplete',\n",
       "       'first_contact', 'tackle', 'man_in_motion', 'play_action',\n",
       "       'qb_sack', 'fumble', 'fumble_offense_recovered', 'handoff',\n",
       "       'pass_tipped', 'pass_outcome_interception', 'qb_strip_sack',\n",
       "       'pass_shovel', 'line_set', 'shift', 'touchdown',\n",
       "       'fumble_defense_recovered', 'pass_outcome_touchdown', 'run',\n",
       "       'touchback', 'penalty_flag', 'penalty_accepted', 'qb_spike',\n",
       "       'field_goal_blocked', 'punt_fake', 'snap_direct',\n",
       "       'run_pass_option', 'pass_lateral', 'lateral', 'field_goal_fake',\n",
       "       'huddle_start_offense', 'huddle_break_offense', 'timeout_home',\n",
       "       'safety', 'field_goal_play'], dtype=object)"
      ]
     },
     "execution_count": 54,
     "metadata": {},
     "output_type": "execute_result"
    }
   ],
   "source": [
    "df['event'].unique()"
   ]
  },
  {
   "cell_type": "code",
   "execution_count": 55,
   "id": "79a021ed-020d-4ec1-9066-c3c2928745ee",
   "metadata": {},
   "outputs": [],
   "source": [
    "defense_positions = ['SS', 'FS', 'MLB', 'CB', 'LB', 'OLB', 'ILB', 'DL', 'DB', 'NT', 'S', 'DE']\n",
    "pass_caught_time = ['pass_outcome_caught']"
   ]
  },
  {
   "cell_type": "markdown",
   "id": "ad649f40-18b0-496e-a020-35a6da6fd117",
   "metadata": {},
   "source": [
    "# Get Targeted Receiver"
   ]
  },
  {
   "cell_type": "code",
   "execution_count": 56,
   "id": "5f9fd807-2a6e-46a2-a50f-306e4bac9ced",
   "metadata": {},
   "outputs": [],
   "source": [
    "target_receiver = df[df['event'].isin(pass_caught_time)]\n",
    "ball_positions = target_receiver[target_receiver['nflId'].isna()][['gameId', 'playId', 'x', 'y']].rename(columns={'x': 'ball_x', 'y': 'ball_y'})\n",
    "target_receiver = target_receiver.merge(ball_positions, on=['gameId', 'playId'], how='left')\n",
    "target_receiver['distance_to_ball'] = np.sqrt((target_receiver['x'] - target_receiver['ball_x'])**2 + (target_receiver['y'] - target_receiver['ball_y'])**2)\n",
    "target_receiver = target_receiver[~target_receiver['position'].isin(defense_positions)]\n",
    "target_receiver = target_receiver[target_receiver['nflId'].notna()]\n",
    "target_receiver = target_receiver[target_receiver['distance_to_ball'].notna()]\n",
    "target_receiver = target_receiver.loc[target_receiver.groupby(['gameId', 'playId'])['distance_to_ball'].idxmin()][['gameId', 'playId', 'nflId', 'distance_to_ball']]\n",
    "target_receiver = target_receiver.rename(columns={'nflId':'target_receiver_nflId'})\n",
    "target_receiver = target_receiver.drop('distance_to_ball', axis=1)"
   ]
  },
  {
   "cell_type": "code",
   "execution_count": 57,
   "id": "92960bf4-a5fa-4f5e-9c0f-1db2cde5e8a9",
   "metadata": {},
   "outputs": [
    {
     "data": {
      "text/html": [
       "<div>\n",
       "<style scoped>\n",
       "    .dataframe tbody tr th:only-of-type {\n",
       "        vertical-align: middle;\n",
       "    }\n",
       "\n",
       "    .dataframe tbody tr th {\n",
       "        vertical-align: top;\n",
       "    }\n",
       "\n",
       "    .dataframe thead th {\n",
       "        text-align: right;\n",
       "    }\n",
       "</style>\n",
       "<table border=\"1\" class=\"dataframe\">\n",
       "  <thead>\n",
       "    <tr style=\"text-align: right;\">\n",
       "      <th></th>\n",
       "      <th>gameId</th>\n",
       "      <th>playId</th>\n",
       "      <th>target_receiver_nflId</th>\n",
       "    </tr>\n",
       "  </thead>\n",
       "  <tbody>\n",
       "    <tr>\n",
       "      <th>2</th>\n",
       "      <td>2018090600</td>\n",
       "      <td>75</td>\n",
       "      <td>2495454.0</td>\n",
       "    </tr>\n",
       "    <tr>\n",
       "      <th>16</th>\n",
       "      <td>2018090600</td>\n",
       "      <td>190</td>\n",
       "      <td>2495454.0</td>\n",
       "    </tr>\n",
       "    <tr>\n",
       "      <th>36</th>\n",
       "      <td>2018090600</td>\n",
       "      <td>320</td>\n",
       "      <td>2552600.0</td>\n",
       "    </tr>\n",
       "    <tr>\n",
       "      <th>50</th>\n",
       "      <td>2018090600</td>\n",
       "      <td>492</td>\n",
       "      <td>2552453.0</td>\n",
       "    </tr>\n",
       "    <tr>\n",
       "      <th>67</th>\n",
       "      <td>2018090600</td>\n",
       "      <td>521</td>\n",
       "      <td>2555415.0</td>\n",
       "    </tr>\n",
       "    <tr>\n",
       "      <th>...</th>\n",
       "      <td>...</td>\n",
       "      <td>...</td>\n",
       "      <td>...</td>\n",
       "    </tr>\n",
       "    <tr>\n",
       "      <th>159375</th>\n",
       "      <td>2018123015</td>\n",
       "      <td>3653</td>\n",
       "      <td>2558856.0</td>\n",
       "    </tr>\n",
       "    <tr>\n",
       "      <th>159510</th>\n",
       "      <td>2018123015</td>\n",
       "      <td>3794</td>\n",
       "      <td>2561272.0</td>\n",
       "    </tr>\n",
       "    <tr>\n",
       "      <th>159554</th>\n",
       "      <td>2018123015</td>\n",
       "      <td>3819</td>\n",
       "      <td>2558208.0</td>\n",
       "    </tr>\n",
       "    <tr>\n",
       "      <th>159779</th>\n",
       "      <td>2018123015</td>\n",
       "      <td>4057</td>\n",
       "      <td>2553439.0</td>\n",
       "    </tr>\n",
       "    <tr>\n",
       "      <th>159808</th>\n",
       "      <td>2018123015</td>\n",
       "      <td>4104</td>\n",
       "      <td>2552430.0</td>\n",
       "    </tr>\n",
       "  </tbody>\n",
       "</table>\n",
       "<p>10905 rows × 3 columns</p>\n",
       "</div>"
      ],
      "text/plain": [
       "            gameId  playId  target_receiver_nflId\n",
       "2       2018090600      75              2495454.0\n",
       "16      2018090600     190              2495454.0\n",
       "36      2018090600     320              2552600.0\n",
       "50      2018090600     492              2552453.0\n",
       "67      2018090600     521              2555415.0\n",
       "...            ...     ...                    ...\n",
       "159375  2018123015    3653              2558856.0\n",
       "159510  2018123015    3794              2561272.0\n",
       "159554  2018123015    3819              2558208.0\n",
       "159779  2018123015    4057              2553439.0\n",
       "159808  2018123015    4104              2552430.0\n",
       "\n",
       "[10905 rows x 3 columns]"
      ]
     },
     "execution_count": 57,
     "metadata": {},
     "output_type": "execute_result"
    }
   ],
   "source": [
    "target_receiver"
   ]
  },
  {
   "cell_type": "markdown",
   "id": "2ec2c496-471e-4f7b-96aa-fce98889617e",
   "metadata": {},
   "source": [
    "# Get Target Receiver Position When Ball Caught"
   ]
  },
  {
   "cell_type": "code",
   "execution_count": 58,
   "id": "df76adc5-9b0e-4931-af6b-d0d886d249a9",
   "metadata": {},
   "outputs": [],
   "source": [
    "pass_caught = df[df['event'].isin(pass_caught_time)]"
   ]
  },
  {
   "cell_type": "code",
   "execution_count": 59,
   "id": "46c88cf4-4c08-4e0b-bfc7-546e9f80f83f",
   "metadata": {},
   "outputs": [],
   "source": [
    "pass_caught = pass_caught.merge(target_receiver, left_on=['gameId', 'playId', 'nflId'], right_on=['gameId', 'playId', 'target_receiver_nflId'])"
   ]
  },
  {
   "cell_type": "code",
   "execution_count": 60,
   "id": "a8ae26f9-471f-4362-abeb-440cb135a9c2",
   "metadata": {},
   "outputs": [],
   "source": [
    "targeted_reciever_positions = pass_caught.groupby(['gameId', 'playId', 'target_receiver_nflId'])[['x', 'y', 's', 'a', 'dis', 'o', 'dir']].mean()\n",
    "\n",
    "targeted_reciever_positions = targeted_reciever_positions.rename(columns={'x':'targeted_receiver_pass_caught_x', \n",
    "                                            'y':'targeted_receiver_pass_caught_y', \n",
    "                                            's':'targeted_receiver_pass_caught_s', \n",
    "                                            'a':'targeted_receiver_pass_caught_a', \n",
    "                                            'dis':'targeted_receiver_pass_caught_dis', \n",
    "                                            'o':'targeted_receiver_pass_caught_o', \n",
    "                                            'dir':'targeted_receiver_pass_caught_dir'})\n",
    "\n",
    "targeted_receiver_info = target_receiver.merge(targeted_reciever_positions, \n",
    "                      left_on=['gameId', 'playId', 'target_receiver_nflId'], \n",
    "                      right_index=True)"
   ]
  },
  {
   "cell_type": "code",
   "execution_count": 61,
   "id": "cc8a8d21-43f8-4f00-b010-503a3372c2c7",
   "metadata": {},
   "outputs": [
    {
     "data": {
      "text/html": [
       "<div>\n",
       "<style scoped>\n",
       "    .dataframe tbody tr th:only-of-type {\n",
       "        vertical-align: middle;\n",
       "    }\n",
       "\n",
       "    .dataframe tbody tr th {\n",
       "        vertical-align: top;\n",
       "    }\n",
       "\n",
       "    .dataframe thead th {\n",
       "        text-align: right;\n",
       "    }\n",
       "</style>\n",
       "<table border=\"1\" class=\"dataframe\">\n",
       "  <thead>\n",
       "    <tr style=\"text-align: right;\">\n",
       "      <th></th>\n",
       "      <th>gameId</th>\n",
       "      <th>playId</th>\n",
       "      <th>target_receiver_nflId</th>\n",
       "      <th>targeted_receiver_pass_caught_x</th>\n",
       "      <th>targeted_receiver_pass_caught_y</th>\n",
       "      <th>targeted_receiver_pass_caught_s</th>\n",
       "      <th>targeted_receiver_pass_caught_a</th>\n",
       "      <th>targeted_receiver_pass_caught_dis</th>\n",
       "      <th>targeted_receiver_pass_caught_o</th>\n",
       "      <th>targeted_receiver_pass_caught_dir</th>\n",
       "    </tr>\n",
       "  </thead>\n",
       "  <tbody>\n",
       "    <tr>\n",
       "      <th>2</th>\n",
       "      <td>2018090600</td>\n",
       "      <td>75</td>\n",
       "      <td>2495454.0</td>\n",
       "      <td>81.48</td>\n",
       "      <td>50.13</td>\n",
       "      <td>4.93</td>\n",
       "      <td>3.07</td>\n",
       "      <td>0.49</td>\n",
       "      <td>326.77</td>\n",
       "      <td>358.86</td>\n",
       "    </tr>\n",
       "    <tr>\n",
       "      <th>16</th>\n",
       "      <td>2018090600</td>\n",
       "      <td>190</td>\n",
       "      <td>2495454.0</td>\n",
       "      <td>22.84</td>\n",
       "      <td>8.70</td>\n",
       "      <td>7.57</td>\n",
       "      <td>2.57</td>\n",
       "      <td>0.78</td>\n",
       "      <td>165.15</td>\n",
       "      <td>228.30</td>\n",
       "    </tr>\n",
       "    <tr>\n",
       "      <th>36</th>\n",
       "      <td>2018090600</td>\n",
       "      <td>320</td>\n",
       "      <td>2552600.0</td>\n",
       "      <td>16.93</td>\n",
       "      <td>49.42</td>\n",
       "      <td>6.92</td>\n",
       "      <td>3.45</td>\n",
       "      <td>0.69</td>\n",
       "      <td>288.40</td>\n",
       "      <td>339.25</td>\n",
       "    </tr>\n",
       "    <tr>\n",
       "      <th>50</th>\n",
       "      <td>2018090600</td>\n",
       "      <td>492</td>\n",
       "      <td>2552453.0</td>\n",
       "      <td>51.39</td>\n",
       "      <td>8.57</td>\n",
       "      <td>5.87</td>\n",
       "      <td>2.29</td>\n",
       "      <td>0.58</td>\n",
       "      <td>261.83</td>\n",
       "      <td>246.69</td>\n",
       "    </tr>\n",
       "    <tr>\n",
       "      <th>67</th>\n",
       "      <td>2018090600</td>\n",
       "      <td>521</td>\n",
       "      <td>2555415.0</td>\n",
       "      <td>16.83</td>\n",
       "      <td>18.01</td>\n",
       "      <td>4.60</td>\n",
       "      <td>1.80</td>\n",
       "      <td>0.47</td>\n",
       "      <td>143.01</td>\n",
       "      <td>212.66</td>\n",
       "    </tr>\n",
       "    <tr>\n",
       "      <th>...</th>\n",
       "      <td>...</td>\n",
       "      <td>...</td>\n",
       "      <td>...</td>\n",
       "      <td>...</td>\n",
       "      <td>...</td>\n",
       "      <td>...</td>\n",
       "      <td>...</td>\n",
       "      <td>...</td>\n",
       "      <td>...</td>\n",
       "      <td>...</td>\n",
       "    </tr>\n",
       "    <tr>\n",
       "      <th>159375</th>\n",
       "      <td>2018123015</td>\n",
       "      <td>3653</td>\n",
       "      <td>2558856.0</td>\n",
       "      <td>86.95</td>\n",
       "      <td>1.39</td>\n",
       "      <td>0.59</td>\n",
       "      <td>0.50</td>\n",
       "      <td>0.06</td>\n",
       "      <td>266.03</td>\n",
       "      <td>118.54</td>\n",
       "    </tr>\n",
       "    <tr>\n",
       "      <th>159510</th>\n",
       "      <td>2018123015</td>\n",
       "      <td>3794</td>\n",
       "      <td>2561272.0</td>\n",
       "      <td>67.55</td>\n",
       "      <td>26.16</td>\n",
       "      <td>4.39</td>\n",
       "      <td>4.45</td>\n",
       "      <td>0.46</td>\n",
       "      <td>344.19</td>\n",
       "      <td>304.54</td>\n",
       "    </tr>\n",
       "    <tr>\n",
       "      <th>159554</th>\n",
       "      <td>2018123015</td>\n",
       "      <td>3819</td>\n",
       "      <td>2558208.0</td>\n",
       "      <td>54.31</td>\n",
       "      <td>18.33</td>\n",
       "      <td>1.63</td>\n",
       "      <td>2.36</td>\n",
       "      <td>0.16</td>\n",
       "      <td>45.85</td>\n",
       "      <td>13.31</td>\n",
       "    </tr>\n",
       "    <tr>\n",
       "      <th>159779</th>\n",
       "      <td>2018123015</td>\n",
       "      <td>4057</td>\n",
       "      <td>2553439.0</td>\n",
       "      <td>39.96</td>\n",
       "      <td>39.54</td>\n",
       "      <td>7.60</td>\n",
       "      <td>0.51</td>\n",
       "      <td>0.75</td>\n",
       "      <td>356.09</td>\n",
       "      <td>7.90</td>\n",
       "    </tr>\n",
       "    <tr>\n",
       "      <th>159808</th>\n",
       "      <td>2018123015</td>\n",
       "      <td>4104</td>\n",
       "      <td>2552430.0</td>\n",
       "      <td>82.22</td>\n",
       "      <td>2.10</td>\n",
       "      <td>5.85</td>\n",
       "      <td>1.53</td>\n",
       "      <td>0.59</td>\n",
       "      <td>218.59</td>\n",
       "      <td>134.44</td>\n",
       "    </tr>\n",
       "  </tbody>\n",
       "</table>\n",
       "<p>10905 rows × 10 columns</p>\n",
       "</div>"
      ],
      "text/plain": [
       "            gameId  playId  target_receiver_nflId  \\\n",
       "2       2018090600      75              2495454.0   \n",
       "16      2018090600     190              2495454.0   \n",
       "36      2018090600     320              2552600.0   \n",
       "50      2018090600     492              2552453.0   \n",
       "67      2018090600     521              2555415.0   \n",
       "...            ...     ...                    ...   \n",
       "159375  2018123015    3653              2558856.0   \n",
       "159510  2018123015    3794              2561272.0   \n",
       "159554  2018123015    3819              2558208.0   \n",
       "159779  2018123015    4057              2553439.0   \n",
       "159808  2018123015    4104              2552430.0   \n",
       "\n",
       "        targeted_receiver_pass_caught_x  targeted_receiver_pass_caught_y  \\\n",
       "2                                 81.48                            50.13   \n",
       "16                                22.84                             8.70   \n",
       "36                                16.93                            49.42   \n",
       "50                                51.39                             8.57   \n",
       "67                                16.83                            18.01   \n",
       "...                                 ...                              ...   \n",
       "159375                            86.95                             1.39   \n",
       "159510                            67.55                            26.16   \n",
       "159554                            54.31                            18.33   \n",
       "159779                            39.96                            39.54   \n",
       "159808                            82.22                             2.10   \n",
       "\n",
       "        targeted_receiver_pass_caught_s  targeted_receiver_pass_caught_a  \\\n",
       "2                                  4.93                             3.07   \n",
       "16                                 7.57                             2.57   \n",
       "36                                 6.92                             3.45   \n",
       "50                                 5.87                             2.29   \n",
       "67                                 4.60                             1.80   \n",
       "...                                 ...                              ...   \n",
       "159375                             0.59                             0.50   \n",
       "159510                             4.39                             4.45   \n",
       "159554                             1.63                             2.36   \n",
       "159779                             7.60                             0.51   \n",
       "159808                             5.85                             1.53   \n",
       "\n",
       "        targeted_receiver_pass_caught_dis  targeted_receiver_pass_caught_o  \\\n",
       "2                                    0.49                           326.77   \n",
       "16                                   0.78                           165.15   \n",
       "36                                   0.69                           288.40   \n",
       "50                                   0.58                           261.83   \n",
       "67                                   0.47                           143.01   \n",
       "...                                   ...                              ...   \n",
       "159375                               0.06                           266.03   \n",
       "159510                               0.46                           344.19   \n",
       "159554                               0.16                            45.85   \n",
       "159779                               0.75                           356.09   \n",
       "159808                               0.59                           218.59   \n",
       "\n",
       "        targeted_receiver_pass_caught_dir  \n",
       "2                                  358.86  \n",
       "16                                 228.30  \n",
       "36                                 339.25  \n",
       "50                                 246.69  \n",
       "67                                 212.66  \n",
       "...                                   ...  \n",
       "159375                             118.54  \n",
       "159510                             304.54  \n",
       "159554                              13.31  \n",
       "159779                               7.90  \n",
       "159808                             134.44  \n",
       "\n",
       "[10905 rows x 10 columns]"
      ]
     },
     "execution_count": 61,
     "metadata": {},
     "output_type": "execute_result"
    }
   ],
   "source": [
    "targeted_receiver_info"
   ]
  },
  {
   "cell_type": "markdown",
   "id": "2cf71235-31be-4bb9-a12f-c48c1df965b5",
   "metadata": {},
   "source": [
    "# Get Closest Defender"
   ]
  },
  {
   "cell_type": "code",
   "execution_count": 62,
   "id": "f14c82a6-aeca-49d6-acec-e96ebf76cf1e",
   "metadata": {},
   "outputs": [],
   "source": [
    "defense_positions_non_line = ['SS', 'FS', 'MLB', 'CB', 'LB', 'OLB', 'ILB', 'DB', 'S']"
   ]
  },
  {
   "cell_type": "code",
   "execution_count": 63,
   "id": "a0ecc073-2fea-4d8d-a30b-26f5119735c5",
   "metadata": {},
   "outputs": [],
   "source": [
    "pass_caught = df[df['event'].isin(pass_caught_time)]\n",
    "pass_caught = pass_caught[pass_caught['position'].isin(defense_positions_non_line)]\n",
    "pass_caught = pass_caught[pass_caught['nflId'].notna()]\n",
    "pass_caught = pass_caught.merge(targeted_receiver_info, left_on=['gameId', 'playId'], right_on=['gameId', 'playId'])\n",
    "pass_caught['closest_defender_distance_from_target_receiver'] = np.sqrt((pass_caught['x'] - pass_caught['targeted_receiver_pass_caught_x'])**2 + (pass_caught['y'] - pass_caught['targeted_receiver_pass_caught_y'])**2)\n",
    "closest_defenders = pass_caught.loc[pass_caught.groupby(['gameId', 'playId'])['closest_defender_distance_from_target_receiver'].idxmin()][['gameId', 'playId', 'nflId', 'x', 'y', 's', 'a', 'dis', 'o', 'dir', 'closest_defender_distance_from_target_receiver', 'playDirection']]\n"
   ]
  },
  {
   "cell_type": "code",
   "execution_count": 64,
   "id": "ca7c2c1b-70b4-4d07-9936-486308cc062b",
   "metadata": {},
   "outputs": [],
   "source": [
    "closest_defenders = closest_defenders.rename(columns={\n",
    "                               'nflId':'closest_defender_nflId',\n",
    "                               'x':'closest_defender_pass_caught_x',\n",
    "                               'y':'closest_defender_pass_caught_y',\n",
    "                               's':'closest_defender_pass_caught_s',\n",
    "                               'a':'closest_defender_pass_caught_a',\n",
    "                               'dis':'closest_defender_pass_caught_dis',\n",
    "                               'o':'closest_defender_pass_caught_o',\n",
    "                               'dir':'closest_defender_pass_caught_dir'})"
   ]
  },
  {
   "cell_type": "code",
   "execution_count": 65,
   "id": "f7917330-03d7-443e-a7b6-0f888ff93eb8",
   "metadata": {},
   "outputs": [
    {
     "data": {
      "text/plain": [
       "array([nan, 'ball_snap', 'pass_forward', 'pass_arrived',\n",
       "       'pass_outcome_caught', 'out_of_bounds', 'pass_outcome_incomplete',\n",
       "       'first_contact', 'tackle', 'man_in_motion', 'play_action',\n",
       "       'qb_sack', 'fumble', 'fumble_offense_recovered', 'handoff',\n",
       "       'pass_tipped', 'pass_outcome_interception', 'qb_strip_sack',\n",
       "       'pass_shovel', 'line_set', 'shift', 'touchdown',\n",
       "       'fumble_defense_recovered', 'pass_outcome_touchdown', 'run',\n",
       "       'touchback', 'penalty_flag', 'penalty_accepted', 'qb_spike',\n",
       "       'field_goal_blocked', 'punt_fake', 'snap_direct',\n",
       "       'run_pass_option', 'pass_lateral', 'lateral', 'field_goal_fake',\n",
       "       'huddle_start_offense', 'huddle_break_offense', 'timeout_home',\n",
       "       'safety', 'field_goal_play'], dtype=object)"
      ]
     },
     "execution_count": 65,
     "metadata": {},
     "output_type": "execute_result"
    }
   ],
   "source": [
    "df['event'].unique()"
   ]
  },
  {
   "cell_type": "markdown",
   "id": "b60f0df2-7e17-461f-9a56-d607234d331d",
   "metadata": {},
   "source": [
    "# Get Closest Blocker"
   ]
  },
  {
   "cell_type": "code",
   "execution_count": 66,
   "id": "f3fe36ae-652f-4258-bacd-8ab904bc00a9",
   "metadata": {},
   "outputs": [
    {
     "data": {
      "text/plain": [
       "array(['QB', 'SS', 'WR', 'FS', 'RB', 'MLB', 'CB', 'TE', 'LB', 'FB', nan,\n",
       "       'OLB', 'HB', 'ILB', 'DL', 'DB', 'NT', 'S', 'DE', 'P', 'LS', 'K',\n",
       "       'DT'], dtype=object)"
      ]
     },
     "execution_count": 66,
     "metadata": {},
     "output_type": "execute_result"
    }
   ],
   "source": [
    "df['position'].unique()"
   ]
  },
  {
   "cell_type": "code",
   "execution_count": 67,
   "id": "6ad8b5eb-2412-46dd-b938-5f5af8cd37ce",
   "metadata": {},
   "outputs": [],
   "source": [
    "offense_positions_non_line = ['WR', 'TE', 'RB', 'HB']"
   ]
  },
  {
   "cell_type": "code",
   "execution_count": 68,
   "id": "b0ebf6e5-653b-4f50-bee6-6b231d62da66",
   "metadata": {},
   "outputs": [],
   "source": [
    "pass_caught = df[df['event'].isin(pass_caught_time)]\n",
    "pass_caught = pass_caught[pass_caught['position'].isin(offense_positions_non_line)]\n",
    "pass_caught = pass_caught[pass_caught['nflId'].notna()]\n",
    "pass_caught = pass_caught.merge(closest_defenders, left_on=['gameId', 'playId'], right_on=['gameId', 'playId'])\n",
    "pass_caught = pass_caught.merge(targeted_receiver_info, left_on=['gameId', 'playId'], right_on=['gameId', 'playId'])\n",
    "pass_caught['closest_blocker_distance_from_closest_defender'] = np.sqrt((pass_caught['x'] - pass_caught['closest_defender_pass_caught_x'])**2 + (pass_caught['y'] - pass_caught['closest_defender_pass_caught_y'])**2)\n",
    "pass_caught = pass_caught[pass_caught['nflId'] != pass_caught['target_receiver_nflId']]\n",
    "closest_blockers = pass_caught.loc[pass_caught.groupby(['gameId', 'playId'])['closest_blocker_distance_from_closest_defender'].idxmin()][['gameId', 'playId', 'nflId', 'x', 'y', 's', 'a', 'dis', 'o', 'dir', 'closest_blocker_distance_from_closest_defender']]\n"
   ]
  },
  {
   "cell_type": "code",
   "execution_count": 69,
   "id": "def07ed4-93c0-4c8c-9ed0-3a4563caec3f",
   "metadata": {},
   "outputs": [],
   "source": [
    "closest_blockers = closest_blockers.rename(columns={\n",
    "                               'nflId':'closest_blocker_nflId',\n",
    "                               'x':'closest_blocker_pass_caught_x',\n",
    "                               'y':'closest_blocker_pass_caught_y',\n",
    "                               's':'closest_blocker_pass_caught_s',\n",
    "                               'a':'closest_blocker_pass_caught_a',\n",
    "                               'dis':'closest_blocker_pass_caught_dis',\n",
    "                               'o':'closest_blocker_pass_caught_o',\n",
    "                               'dir':'closest_blocker_pass_caught_dir'})"
   ]
  },
  {
   "cell_type": "code",
   "execution_count": 70,
   "id": "8a5f7635-3cec-4f9d-aa0b-a0d1ee47b687",
   "metadata": {},
   "outputs": [
    {
     "data": {
      "text/html": [
       "<div>\n",
       "<style scoped>\n",
       "    .dataframe tbody tr th:only-of-type {\n",
       "        vertical-align: middle;\n",
       "    }\n",
       "\n",
       "    .dataframe tbody tr th {\n",
       "        vertical-align: top;\n",
       "    }\n",
       "\n",
       "    .dataframe thead th {\n",
       "        text-align: right;\n",
       "    }\n",
       "</style>\n",
       "<table border=\"1\" class=\"dataframe\">\n",
       "  <thead>\n",
       "    <tr style=\"text-align: right;\">\n",
       "      <th></th>\n",
       "      <th>gameId</th>\n",
       "      <th>playId</th>\n",
       "      <th>closest_blocker_nflId</th>\n",
       "      <th>closest_blocker_pass_caught_x</th>\n",
       "      <th>closest_blocker_pass_caught_y</th>\n",
       "      <th>closest_blocker_pass_caught_s</th>\n",
       "      <th>closest_blocker_pass_caught_a</th>\n",
       "      <th>closest_blocker_pass_caught_dis</th>\n",
       "      <th>closest_blocker_pass_caught_o</th>\n",
       "      <th>closest_blocker_pass_caught_dir</th>\n",
       "      <th>closest_blocker_distance_from_closest_defender</th>\n",
       "    </tr>\n",
       "  </thead>\n",
       "  <tbody>\n",
       "    <tr>\n",
       "      <th>1</th>\n",
       "      <td>2018090600</td>\n",
       "      <td>75</td>\n",
       "      <td>2533040.0</td>\n",
       "      <td>76.75</td>\n",
       "      <td>36.60</td>\n",
       "      <td>2.82</td>\n",
       "      <td>1.85</td>\n",
       "      <td>0.28</td>\n",
       "      <td>33.31</td>\n",
       "      <td>332.72</td>\n",
       "      <td>13.440629</td>\n",
       "    </tr>\n",
       "    <tr>\n",
       "      <th>8</th>\n",
       "      <td>2018090600</td>\n",
       "      <td>190</td>\n",
       "      <td>2560854.0</td>\n",
       "      <td>41.91</td>\n",
       "      <td>10.06</td>\n",
       "      <td>2.28</td>\n",
       "      <td>1.12</td>\n",
       "      <td>0.23</td>\n",
       "      <td>295.30</td>\n",
       "      <td>315.55</td>\n",
       "      <td>18.601376</td>\n",
       "    </tr>\n",
       "    <tr>\n",
       "      <th>10</th>\n",
       "      <td>2018090600</td>\n",
       "      <td>320</td>\n",
       "      <td>2540158.0</td>\n",
       "      <td>18.00</td>\n",
       "      <td>41.93</td>\n",
       "      <td>4.17</td>\n",
       "      <td>1.26</td>\n",
       "      <td>0.42</td>\n",
       "      <td>311.50</td>\n",
       "      <td>353.87</td>\n",
       "      <td>7.191836</td>\n",
       "    </tr>\n",
       "    <tr>\n",
       "      <th>15</th>\n",
       "      <td>2018090600</td>\n",
       "      <td>492</td>\n",
       "      <td>2507828.0</td>\n",
       "      <td>47.05</td>\n",
       "      <td>22.66</td>\n",
       "      <td>5.09</td>\n",
       "      <td>1.68</td>\n",
       "      <td>0.50</td>\n",
       "      <td>280.58</td>\n",
       "      <td>231.10</td>\n",
       "      <td>8.142358</td>\n",
       "    </tr>\n",
       "    <tr>\n",
       "      <th>19</th>\n",
       "      <td>2018090600</td>\n",
       "      <td>521</td>\n",
       "      <td>2495454.0</td>\n",
       "      <td>7.73</td>\n",
       "      <td>22.85</td>\n",
       "      <td>5.57</td>\n",
       "      <td>4.14</td>\n",
       "      <td>0.57</td>\n",
       "      <td>147.50</td>\n",
       "      <td>174.33</td>\n",
       "      <td>9.893675</td>\n",
       "    </tr>\n",
       "    <tr>\n",
       "      <th>...</th>\n",
       "      <td>...</td>\n",
       "      <td>...</td>\n",
       "      <td>...</td>\n",
       "      <td>...</td>\n",
       "      <td>...</td>\n",
       "      <td>...</td>\n",
       "      <td>...</td>\n",
       "      <td>...</td>\n",
       "      <td>...</td>\n",
       "      <td>...</td>\n",
       "      <td>...</td>\n",
       "    </tr>\n",
       "    <tr>\n",
       "      <th>53591</th>\n",
       "      <td>2018123015</td>\n",
       "      <td>3653</td>\n",
       "      <td>2552430.0</td>\n",
       "      <td>95.10</td>\n",
       "      <td>8.19</td>\n",
       "      <td>1.74</td>\n",
       "      <td>1.32</td>\n",
       "      <td>0.18</td>\n",
       "      <td>255.71</td>\n",
       "      <td>311.29</td>\n",
       "      <td>7.997912</td>\n",
       "    </tr>\n",
       "    <tr>\n",
       "      <th>53636</th>\n",
       "      <td>2018123015</td>\n",
       "      <td>3794</td>\n",
       "      <td>2506106.0</td>\n",
       "      <td>73.18</td>\n",
       "      <td>29.03</td>\n",
       "      <td>4.72</td>\n",
       "      <td>1.62</td>\n",
       "      <td>0.48</td>\n",
       "      <td>249.56</td>\n",
       "      <td>237.01</td>\n",
       "      <td>5.563641</td>\n",
       "    </tr>\n",
       "    <tr>\n",
       "      <th>53651</th>\n",
       "      <td>2018123015</td>\n",
       "      <td>3819</td>\n",
       "      <td>2553435.0</td>\n",
       "      <td>67.24</td>\n",
       "      <td>14.53</td>\n",
       "      <td>2.95</td>\n",
       "      <td>2.72</td>\n",
       "      <td>0.31</td>\n",
       "      <td>308.58</td>\n",
       "      <td>208.64</td>\n",
       "      <td>14.467467</td>\n",
       "    </tr>\n",
       "    <tr>\n",
       "      <th>53725</th>\n",
       "      <td>2018123015</td>\n",
       "      <td>4057</td>\n",
       "      <td>2530747.0</td>\n",
       "      <td>52.94</td>\n",
       "      <td>35.82</td>\n",
       "      <td>6.75</td>\n",
       "      <td>2.30</td>\n",
       "      <td>0.68</td>\n",
       "      <td>337.37</td>\n",
       "      <td>30.89</td>\n",
       "      <td>7.733589</td>\n",
       "    </tr>\n",
       "    <tr>\n",
       "      <th>53735</th>\n",
       "      <td>2018123015</td>\n",
       "      <td>4104</td>\n",
       "      <td>2530747.0</td>\n",
       "      <td>66.46</td>\n",
       "      <td>10.58</td>\n",
       "      <td>0.22</td>\n",
       "      <td>0.36</td>\n",
       "      <td>0.02</td>\n",
       "      <td>145.83</td>\n",
       "      <td>72.34</td>\n",
       "      <td>17.463233</td>\n",
       "    </tr>\n",
       "  </tbody>\n",
       "</table>\n",
       "<p>10890 rows × 11 columns</p>\n",
       "</div>"
      ],
      "text/plain": [
       "           gameId  playId  closest_blocker_nflId  \\\n",
       "1      2018090600      75              2533040.0   \n",
       "8      2018090600     190              2560854.0   \n",
       "10     2018090600     320              2540158.0   \n",
       "15     2018090600     492              2507828.0   \n",
       "19     2018090600     521              2495454.0   \n",
       "...           ...     ...                    ...   \n",
       "53591  2018123015    3653              2552430.0   \n",
       "53636  2018123015    3794              2506106.0   \n",
       "53651  2018123015    3819              2553435.0   \n",
       "53725  2018123015    4057              2530747.0   \n",
       "53735  2018123015    4104              2530747.0   \n",
       "\n",
       "       closest_blocker_pass_caught_x  closest_blocker_pass_caught_y  \\\n",
       "1                              76.75                          36.60   \n",
       "8                              41.91                          10.06   \n",
       "10                             18.00                          41.93   \n",
       "15                             47.05                          22.66   \n",
       "19                              7.73                          22.85   \n",
       "...                              ...                            ...   \n",
       "53591                          95.10                           8.19   \n",
       "53636                          73.18                          29.03   \n",
       "53651                          67.24                          14.53   \n",
       "53725                          52.94                          35.82   \n",
       "53735                          66.46                          10.58   \n",
       "\n",
       "       closest_blocker_pass_caught_s  closest_blocker_pass_caught_a  \\\n",
       "1                               2.82                           1.85   \n",
       "8                               2.28                           1.12   \n",
       "10                              4.17                           1.26   \n",
       "15                              5.09                           1.68   \n",
       "19                              5.57                           4.14   \n",
       "...                              ...                            ...   \n",
       "53591                           1.74                           1.32   \n",
       "53636                           4.72                           1.62   \n",
       "53651                           2.95                           2.72   \n",
       "53725                           6.75                           2.30   \n",
       "53735                           0.22                           0.36   \n",
       "\n",
       "       closest_blocker_pass_caught_dis  closest_blocker_pass_caught_o  \\\n",
       "1                                 0.28                          33.31   \n",
       "8                                 0.23                         295.30   \n",
       "10                                0.42                         311.50   \n",
       "15                                0.50                         280.58   \n",
       "19                                0.57                         147.50   \n",
       "...                                ...                            ...   \n",
       "53591                             0.18                         255.71   \n",
       "53636                             0.48                         249.56   \n",
       "53651                             0.31                         308.58   \n",
       "53725                             0.68                         337.37   \n",
       "53735                             0.02                         145.83   \n",
       "\n",
       "       closest_blocker_pass_caught_dir  \\\n",
       "1                               332.72   \n",
       "8                               315.55   \n",
       "10                              353.87   \n",
       "15                              231.10   \n",
       "19                              174.33   \n",
       "...                                ...   \n",
       "53591                           311.29   \n",
       "53636                           237.01   \n",
       "53651                           208.64   \n",
       "53725                            30.89   \n",
       "53735                            72.34   \n",
       "\n",
       "       closest_blocker_distance_from_closest_defender  \n",
       "1                                           13.440629  \n",
       "8                                           18.601376  \n",
       "10                                           7.191836  \n",
       "15                                           8.142358  \n",
       "19                                           9.893675  \n",
       "...                                               ...  \n",
       "53591                                        7.997912  \n",
       "53636                                        5.563641  \n",
       "53651                                       14.467467  \n",
       "53725                                        7.733589  \n",
       "53735                                       17.463233  \n",
       "\n",
       "[10890 rows x 11 columns]"
      ]
     },
     "execution_count": 70,
     "metadata": {},
     "output_type": "execute_result"
    }
   ],
   "source": [
    "closest_blockers"
   ]
  },
  {
   "cell_type": "markdown",
   "id": "2f027384-1d8d-47f0-8619-35b86d436eda",
   "metadata": {},
   "source": [
    "# Get Targeted Receiver Position When Play Ended"
   ]
  },
  {
   "cell_type": "code",
   "execution_count": 71,
   "id": "5954722e-e29d-495e-9224-03bd4681c85d",
   "metadata": {},
   "outputs": [],
   "source": [
    "play_ended_events = ['tackle', 'out_of_bounds', 'fumble', 'touchdown', 'pass_outcome_touchdown']"
   ]
  },
  {
   "cell_type": "code",
   "execution_count": 72,
   "id": "a49b87b8-cccf-4962-8eba-c6927e4dabd1",
   "metadata": {},
   "outputs": [],
   "source": [
    "play_ended = df[df['event'].isin(play_ended_events)]"
   ]
  },
  {
   "cell_type": "code",
   "execution_count": 73,
   "id": "f4ca9910-5d31-4a49-947c-14b10fc3cd16",
   "metadata": {},
   "outputs": [],
   "source": [
    "play_ended = play_ended.merge(target_receiver, left_on=['gameId', 'playId', 'nflId'], right_on=['gameId', 'playId', 'target_receiver_nflId'])\n",
    "\n",
    "\n"
   ]
  },
  {
   "cell_type": "code",
   "execution_count": 74,
   "id": "4ffb29e0-47ab-4f14-80ce-b85545db76a9",
   "metadata": {},
   "outputs": [],
   "source": [
    "play_ended = play_ended[['gameId', 'playId', 'target_receiver_nflId', 'x']]"
   ]
  },
  {
   "cell_type": "code",
   "execution_count": 75,
   "id": "c96a780b-4482-4a4c-9d2b-fd3ef1a2e6aa",
   "metadata": {},
   "outputs": [],
   "source": [
    "play_ended = play_ended.rename(columns={'x':'x_play_ended'})"
   ]
  },
  {
   "cell_type": "code",
   "execution_count": 76,
   "id": "c303abf9-1f43-43d9-ac4e-bedd7e57cebc",
   "metadata": {},
   "outputs": [
    {
     "data": {
      "text/html": [
       "<div>\n",
       "<style scoped>\n",
       "    .dataframe tbody tr th:only-of-type {\n",
       "        vertical-align: middle;\n",
       "    }\n",
       "\n",
       "    .dataframe tbody tr th {\n",
       "        vertical-align: top;\n",
       "    }\n",
       "\n",
       "    .dataframe thead th {\n",
       "        text-align: right;\n",
       "    }\n",
       "</style>\n",
       "<table border=\"1\" class=\"dataframe\">\n",
       "  <thead>\n",
       "    <tr style=\"text-align: right;\">\n",
       "      <th></th>\n",
       "      <th>gameId</th>\n",
       "      <th>playId</th>\n",
       "      <th>target_receiver_nflId</th>\n",
       "      <th>targeted_receiver_pass_caught_x</th>\n",
       "      <th>targeted_receiver_pass_caught_y</th>\n",
       "      <th>targeted_receiver_pass_caught_s</th>\n",
       "      <th>targeted_receiver_pass_caught_a</th>\n",
       "      <th>targeted_receiver_pass_caught_dis</th>\n",
       "      <th>targeted_receiver_pass_caught_o</th>\n",
       "      <th>targeted_receiver_pass_caught_dir</th>\n",
       "    </tr>\n",
       "  </thead>\n",
       "  <tbody>\n",
       "    <tr>\n",
       "      <th>2</th>\n",
       "      <td>2018090600</td>\n",
       "      <td>75</td>\n",
       "      <td>2495454.0</td>\n",
       "      <td>81.48</td>\n",
       "      <td>50.13</td>\n",
       "      <td>4.93</td>\n",
       "      <td>3.07</td>\n",
       "      <td>0.49</td>\n",
       "      <td>326.77</td>\n",
       "      <td>358.86</td>\n",
       "    </tr>\n",
       "    <tr>\n",
       "      <th>16</th>\n",
       "      <td>2018090600</td>\n",
       "      <td>190</td>\n",
       "      <td>2495454.0</td>\n",
       "      <td>22.84</td>\n",
       "      <td>8.70</td>\n",
       "      <td>7.57</td>\n",
       "      <td>2.57</td>\n",
       "      <td>0.78</td>\n",
       "      <td>165.15</td>\n",
       "      <td>228.30</td>\n",
       "    </tr>\n",
       "    <tr>\n",
       "      <th>36</th>\n",
       "      <td>2018090600</td>\n",
       "      <td>320</td>\n",
       "      <td>2552600.0</td>\n",
       "      <td>16.93</td>\n",
       "      <td>49.42</td>\n",
       "      <td>6.92</td>\n",
       "      <td>3.45</td>\n",
       "      <td>0.69</td>\n",
       "      <td>288.40</td>\n",
       "      <td>339.25</td>\n",
       "    </tr>\n",
       "    <tr>\n",
       "      <th>50</th>\n",
       "      <td>2018090600</td>\n",
       "      <td>492</td>\n",
       "      <td>2552453.0</td>\n",
       "      <td>51.39</td>\n",
       "      <td>8.57</td>\n",
       "      <td>5.87</td>\n",
       "      <td>2.29</td>\n",
       "      <td>0.58</td>\n",
       "      <td>261.83</td>\n",
       "      <td>246.69</td>\n",
       "    </tr>\n",
       "    <tr>\n",
       "      <th>67</th>\n",
       "      <td>2018090600</td>\n",
       "      <td>521</td>\n",
       "      <td>2555415.0</td>\n",
       "      <td>16.83</td>\n",
       "      <td>18.01</td>\n",
       "      <td>4.60</td>\n",
       "      <td>1.80</td>\n",
       "      <td>0.47</td>\n",
       "      <td>143.01</td>\n",
       "      <td>212.66</td>\n",
       "    </tr>\n",
       "    <tr>\n",
       "      <th>...</th>\n",
       "      <td>...</td>\n",
       "      <td>...</td>\n",
       "      <td>...</td>\n",
       "      <td>...</td>\n",
       "      <td>...</td>\n",
       "      <td>...</td>\n",
       "      <td>...</td>\n",
       "      <td>...</td>\n",
       "      <td>...</td>\n",
       "      <td>...</td>\n",
       "    </tr>\n",
       "    <tr>\n",
       "      <th>159375</th>\n",
       "      <td>2018123015</td>\n",
       "      <td>3653</td>\n",
       "      <td>2558856.0</td>\n",
       "      <td>86.95</td>\n",
       "      <td>1.39</td>\n",
       "      <td>0.59</td>\n",
       "      <td>0.50</td>\n",
       "      <td>0.06</td>\n",
       "      <td>266.03</td>\n",
       "      <td>118.54</td>\n",
       "    </tr>\n",
       "    <tr>\n",
       "      <th>159510</th>\n",
       "      <td>2018123015</td>\n",
       "      <td>3794</td>\n",
       "      <td>2561272.0</td>\n",
       "      <td>67.55</td>\n",
       "      <td>26.16</td>\n",
       "      <td>4.39</td>\n",
       "      <td>4.45</td>\n",
       "      <td>0.46</td>\n",
       "      <td>344.19</td>\n",
       "      <td>304.54</td>\n",
       "    </tr>\n",
       "    <tr>\n",
       "      <th>159554</th>\n",
       "      <td>2018123015</td>\n",
       "      <td>3819</td>\n",
       "      <td>2558208.0</td>\n",
       "      <td>54.31</td>\n",
       "      <td>18.33</td>\n",
       "      <td>1.63</td>\n",
       "      <td>2.36</td>\n",
       "      <td>0.16</td>\n",
       "      <td>45.85</td>\n",
       "      <td>13.31</td>\n",
       "    </tr>\n",
       "    <tr>\n",
       "      <th>159779</th>\n",
       "      <td>2018123015</td>\n",
       "      <td>4057</td>\n",
       "      <td>2553439.0</td>\n",
       "      <td>39.96</td>\n",
       "      <td>39.54</td>\n",
       "      <td>7.60</td>\n",
       "      <td>0.51</td>\n",
       "      <td>0.75</td>\n",
       "      <td>356.09</td>\n",
       "      <td>7.90</td>\n",
       "    </tr>\n",
       "    <tr>\n",
       "      <th>159808</th>\n",
       "      <td>2018123015</td>\n",
       "      <td>4104</td>\n",
       "      <td>2552430.0</td>\n",
       "      <td>82.22</td>\n",
       "      <td>2.10</td>\n",
       "      <td>5.85</td>\n",
       "      <td>1.53</td>\n",
       "      <td>0.59</td>\n",
       "      <td>218.59</td>\n",
       "      <td>134.44</td>\n",
       "    </tr>\n",
       "  </tbody>\n",
       "</table>\n",
       "<p>10905 rows × 10 columns</p>\n",
       "</div>"
      ],
      "text/plain": [
       "            gameId  playId  target_receiver_nflId  \\\n",
       "2       2018090600      75              2495454.0   \n",
       "16      2018090600     190              2495454.0   \n",
       "36      2018090600     320              2552600.0   \n",
       "50      2018090600     492              2552453.0   \n",
       "67      2018090600     521              2555415.0   \n",
       "...            ...     ...                    ...   \n",
       "159375  2018123015    3653              2558856.0   \n",
       "159510  2018123015    3794              2561272.0   \n",
       "159554  2018123015    3819              2558208.0   \n",
       "159779  2018123015    4057              2553439.0   \n",
       "159808  2018123015    4104              2552430.0   \n",
       "\n",
       "        targeted_receiver_pass_caught_x  targeted_receiver_pass_caught_y  \\\n",
       "2                                 81.48                            50.13   \n",
       "16                                22.84                             8.70   \n",
       "36                                16.93                            49.42   \n",
       "50                                51.39                             8.57   \n",
       "67                                16.83                            18.01   \n",
       "...                                 ...                              ...   \n",
       "159375                            86.95                             1.39   \n",
       "159510                            67.55                            26.16   \n",
       "159554                            54.31                            18.33   \n",
       "159779                            39.96                            39.54   \n",
       "159808                            82.22                             2.10   \n",
       "\n",
       "        targeted_receiver_pass_caught_s  targeted_receiver_pass_caught_a  \\\n",
       "2                                  4.93                             3.07   \n",
       "16                                 7.57                             2.57   \n",
       "36                                 6.92                             3.45   \n",
       "50                                 5.87                             2.29   \n",
       "67                                 4.60                             1.80   \n",
       "...                                 ...                              ...   \n",
       "159375                             0.59                             0.50   \n",
       "159510                             4.39                             4.45   \n",
       "159554                             1.63                             2.36   \n",
       "159779                             7.60                             0.51   \n",
       "159808                             5.85                             1.53   \n",
       "\n",
       "        targeted_receiver_pass_caught_dis  targeted_receiver_pass_caught_o  \\\n",
       "2                                    0.49                           326.77   \n",
       "16                                   0.78                           165.15   \n",
       "36                                   0.69                           288.40   \n",
       "50                                   0.58                           261.83   \n",
       "67                                   0.47                           143.01   \n",
       "...                                   ...                              ...   \n",
       "159375                               0.06                           266.03   \n",
       "159510                               0.46                           344.19   \n",
       "159554                               0.16                            45.85   \n",
       "159779                               0.75                           356.09   \n",
       "159808                               0.59                           218.59   \n",
       "\n",
       "        targeted_receiver_pass_caught_dir  \n",
       "2                                  358.86  \n",
       "16                                 228.30  \n",
       "36                                 339.25  \n",
       "50                                 246.69  \n",
       "67                                 212.66  \n",
       "...                                   ...  \n",
       "159375                             118.54  \n",
       "159510                             304.54  \n",
       "159554                              13.31  \n",
       "159779                               7.90  \n",
       "159808                             134.44  \n",
       "\n",
       "[10905 rows x 10 columns]"
      ]
     },
     "execution_count": 76,
     "metadata": {},
     "output_type": "execute_result"
    }
   ],
   "source": [
    "targeted_receiver_info"
   ]
  },
  {
   "cell_type": "markdown",
   "id": "8ca9b9d2-2a90-4ff9-8844-ef6d3fd92680",
   "metadata": {},
   "source": [
    "# Get Label"
   ]
  },
  {
   "cell_type": "code",
   "execution_count": 77,
   "id": "03132ae1-e2bb-4b18-9512-69c42ab23abb",
   "metadata": {},
   "outputs": [],
   "source": [
    "data = closest_defenders.merge(targeted_receiver_info, on=['gameId', 'playId'])"
   ]
  },
  {
   "cell_type": "code",
   "execution_count": 78,
   "id": "2b8baeeb-92bf-450d-a9ea-33b767adf0b9",
   "metadata": {},
   "outputs": [],
   "source": [
    "data = data.merge(closest_blockers, on=['gameId', 'playId'])"
   ]
  },
  {
   "cell_type": "code",
   "execution_count": 79,
   "id": "0d1a066a-40d3-4223-aab1-9be6bdc80e46",
   "metadata": {},
   "outputs": [],
   "source": [
    "data = data.merge(play_ended, on=['gameId', 'playId', 'target_receiver_nflId'])"
   ]
  },
  {
   "cell_type": "code",
   "execution_count": 80,
   "id": "0a6f63e2-6d47-4fa6-86e7-93acd60d556d",
   "metadata": {},
   "outputs": [],
   "source": [
    "data.loc[data['playDirection'] == 'left', 'YAC'] = (\n",
    "    data['targeted_receiver_pass_caught_x'] - data['x_play_ended']\n",
    ")\n",
    "\n",
    "data.loc[data['playDirection'] == 'right', 'YAC'] = (\n",
    "    data['x_play_ended'] - data['targeted_receiver_pass_caught_x']\n",
    ")"
   ]
  },
  {
   "cell_type": "code",
   "execution_count": 81,
   "id": "5623f118-6be5-4c5a-be06-a7c906f0a2bd",
   "metadata": {},
   "outputs": [],
   "source": [
    "data = data.merge(plays, on=['gameId', 'playId'])"
   ]
  },
  {
   "cell_type": "code",
   "execution_count": 82,
   "id": "7b47d228-611a-4663-80cd-31fbb3aa9bf8",
   "metadata": {},
   "outputs": [],
   "source": [
    "data = data.dropna()"
   ]
  },
  {
   "cell_type": "code",
   "execution_count": 83,
   "id": "682291b6-3173-4355-bd38-83c294e80e36",
   "metadata": {},
   "outputs": [],
   "source": [
    "data['targeted_receiver_pass_caught_o_dir_diff'] = data['targeted_receiver_pass_caught_o'] - data['targeted_receiver_pass_caught_dir']\n",
    "data['closest_defender_pass_caught_o_dir_diff'] = data['closest_defender_pass_caught_o'] - data['closest_defender_pass_caught_dir']\n",
    "data['targeted_closest_dir_difference'] = data['closest_defender_pass_caught_dir'] - data['targeted_receiver_pass_caught_dir']\n",
    "data['targeted_closest_o_difference'] = data['closest_defender_pass_caught_o'] - data['targeted_receiver_pass_caught_o']\n",
    "data['targeted_closest_a_difference'] = data['closest_defender_pass_caught_a'] - data['targeted_receiver_pass_caught_a']\n",
    "data['targeted_closest_s_difference'] = data['closest_defender_pass_caught_s'] - data['targeted_receiver_pass_caught_s']\n",
    "data['targeted_closest_dis_difference'] = data['closest_defender_pass_caught_dis'] - data['targeted_receiver_pass_caught_dis']"
   ]
  },
  {
   "cell_type": "code",
   "execution_count": 84,
   "id": "4b6b2c81-d185-47b9-a114-0d80d7a85b2d",
   "metadata": {},
   "outputs": [],
   "source": [
    "receiver_dist_0 = abs(data['targeted_receiver_pass_caught_y'] - 0)\n",
    "receiver_dist_53_3 = abs(data['targeted_receiver_pass_caught_y'] - 53.3)\n",
    "\n",
    "defender_dist_0 = abs(data['closest_defender_pass_caught_y'] - 0)\n",
    "defender_dist_53_3 = abs(data['closest_defender_pass_caught_y'] - 53.3)\n",
    "\n",
    "blocker_dist_0 = abs(data['closest_blocker_pass_caught_y'] - 0)\n",
    "blocker_dist_53_3 = abs(data['closest_blocker_pass_caught_y'] - 53.3)\n",
    "\n",
    "data['targeted_receiver_distance_from_oob'] = np.minimum(receiver_dist_0, receiver_dist_53_3)\n",
    "data['closest_defender_distance_from_oob'] = np.minimum(defender_dist_0, defender_dist_53_3)\n",
    "\n",
    "data['closest_blocker_distance_from_oob'] = np.minimum(blocker_dist_0, blocker_dist_53_3)"
   ]
  },
  {
   "cell_type": "code",
   "execution_count": 85,
   "id": "6d74d174-9f45-4a1e-96af-f197b624f0ac",
   "metadata": {},
   "outputs": [],
   "source": [
    "data['closest_blocker_distance_from_target_receiver'] = np.sqrt((data['closest_blocker_pass_caught_x'] - data['targeted_receiver_pass_caught_x'])**2 + (data['closest_blocker_pass_caught_y'] - data['targeted_receiver_pass_caught_y'])**2)\n",
    "\n"
   ]
  },
  {
   "cell_type": "markdown",
   "id": "fe049a85-06d5-4978-87f1-24a7006f5a3e",
   "metadata": {},
   "source": [
    "# Model YAC"
   ]
  },
  {
   "cell_type": "code",
   "execution_count": 86,
   "id": "cedaef6b-99d0-4ae1-bdb4-4ae91b1d90c0",
   "metadata": {},
   "outputs": [],
   "source": [
    "y = data['YAC']\n",
    "X = data.drop(['gameId', 'playId', 'YAC', 'closest_defender_nflId', 'closest_blocker_nflId', 'target_receiver_nflId', 'playDirection', 'x_play_ended'], axis=1)"
   ]
  },
  {
   "cell_type": "code",
   "execution_count": 93,
   "id": "35b17edc-259a-4ae4-8247-47f89396c9f8",
   "metadata": {},
   "outputs": [
    {
     "name": "stdout",
     "output_type": "stream",
     "text": [
      "Fitting 5 folds for each of 1 candidates, totalling 5 fits\n",
      "Mean Squared Error: 28.727711848645075\n",
      "Root Mean Squared Error: 5.359823863584052\n",
      "Best Parameters: {'lambda_l1': 0.1, 'lambda_l2': 0.1, 'learning_rate': 0.05, 'max_depth': 15, 'min_data_in_leaf': 30, 'n_estimators': 200, 'num_leaves': 31, 'verbosity': -1}\n",
      "Best Cross-Validation Score: -38.75042165477425\n"
     ]
    }
   ],
   "source": [
    "X_train, X_test, y_train, y_test = train_test_split(X, y, test_size=0.2, random_state=0)\n",
    "\n",
    "model = lgb.LGBMRegressor()\n",
    "\n",
    "param_grid = {\n",
    "    'num_leaves': [31],\n",
    "    'learning_rate': [0.05],\n",
    "    'n_estimators': [200],\n",
    "    'max_depth': [15],\n",
    "    'min_data_in_leaf': [30],\n",
    "    'lambda_l1': [0.1],\n",
    "    'lambda_l2': [0.1],\n",
    "    'verbosity':[-1]\n",
    "}\n",
    "\n",
    "grid_search = GridSearchCV(estimator=model, param_grid=param_grid, \n",
    "                           scoring='neg_mean_squared_error', cv=5, verbose=1, n_jobs=1)\n",
    "\n",
    "grid_search.fit(X_train, y_train)\n",
    "\n",
    "y_pred = grid_search.predict(X_test)\n",
    "\n",
    "mse = mean_squared_error(y_test, y_pred)\n",
    "rmse = np.sqrt(mse)\n",
    "\n",
    "print(f\"Mean Squared Error: {mse}\")\n",
    "print(f\"Root Mean Squared Error: {rmse}\")\n",
    "print(f\"Best Parameters: {grid_search.best_params_}\")\n",
    "print(f\"Best Cross-Validation Score: {grid_search.best_score_}\")\n"
   ]
  },
  {
   "cell_type": "code",
   "execution_count": 94,
   "id": "ac7825f6-cdd9-4349-b46f-1ac1c56e9c1d",
   "metadata": {},
   "outputs": [
    {
     "data": {
      "image/png": "[encoded data removed]",
      "text/plain": [
       "<Figure size 1000x600 with 1 Axes>"
      ]
     },
     "metadata": {},
     "output_type": "display_data"
    },
    {
     "name": "stdout",
     "output_type": "stream",
     "text": [
      "                                           Feature  Importance\n",
      "7   closest_defender_distance_from_target_receiver         350\n",
      "14               targeted_receiver_pass_caught_dir         324\n",
      "10                 targeted_receiver_pass_caught_s         316\n",
      "29                   targeted_closest_s_difference         245\n",
      "31             targeted_receiver_distance_from_oob         244\n",
      "25         closest_defender_pass_caught_o_dir_diff         243\n",
      "22  closest_blocker_distance_from_closest_defender         226\n",
      "11                 targeted_receiver_pass_caught_a         225\n",
      "20                   closest_blocker_pass_caught_o         217\n",
      "32              closest_defender_distance_from_oob         211\n"
     ]
    }
   ],
   "source": [
    "best_model = grid_search.best_estimator_\n",
    "importances = best_model.feature_importances_\n",
    "feature_names = X.columns\n",
    "\n",
    "feature_importance_df = pd.DataFrame({'Feature': feature_names, 'Importance': importances})\n",
    "feature_importance_df = feature_importance_df.sort_values(by='Importance', ascending=False)\n",
    "\n",
    "plt.figure(figsize=(10, 6))\n",
    "plt.barh(feature_importance_df['Feature'], feature_importance_df['Importance'], color='skyblue')\n",
    "plt.xlabel('Importance')\n",
    "plt.title('Feature Importance')\n",
    "plt.gca().invert_yaxis()\n",
    "plt.show()\n",
    "\n",
    "print(feature_importance_df.head(10))\n"
   ]
  },
  {
   "cell_type": "code",
   "execution_count": 39,
   "id": "cc5dbe75-3fd7-47d2-ad6c-fe5b3035d20b",
   "metadata": {},
   "outputs": [
    {
     "data": {
      "text/plain": [
       "Index(['closest_defender_pass_caught_x', 'closest_defender_pass_caught_y',\n",
       "       'closest_defender_pass_caught_s', 'closest_defender_pass_caught_a',\n",
       "       'closest_defender_pass_caught_dis', 'closest_defender_pass_caught_o',\n",
       "       'closest_defender_pass_caught_dir',\n",
       "       'closest_defender_distance_from_target_receiver',\n",
       "       'targeted_receiver_pass_caught_x', 'targeted_receiver_pass_caught_y',\n",
       "       'targeted_receiver_pass_caught_s', 'targeted_receiver_pass_caught_a',\n",
       "       'targeted_receiver_pass_caught_dis', 'targeted_receiver_pass_caught_o',\n",
       "       'targeted_receiver_pass_caught_dir', 'closest_blocker_pass_caught_x',\n",
       "       'closest_blocker_pass_caught_y', 'closest_blocker_pass_caught_s',\n",
       "       'closest_blocker_pass_caught_a', 'closest_blocker_pass_caught_dis',\n",
       "       'closest_blocker_pass_caught_o', 'closest_blocker_pass_caught_dir',\n",
       "       'closest_blocker_distance_from_closest_defender',\n",
       "       'absoluteYardlineNumber', 'targeted_receiver_pass_caught_o_dir_diff',\n",
       "       'closest_defender_pass_caught_o_dir_diff',\n",
       "       'targeted_closest_dir_difference', 'targeted_closest_o_difference',\n",
       "       'targeted_closest_a_difference', 'targeted_closest_s_difference',\n",
       "       'targeted_closest_dis_difference',\n",
       "       'targeted_receiver_distance_from_oob',\n",
       "       'closest_defender_distance_from_oob',\n",
       "       'closest_blocker_distance_from_oob',\n",
       "       'closest_blocker_distance_from_target_receiver'],\n",
       "      dtype='object')"
      ]
     },
     "execution_count": 39,
     "metadata": {},
     "output_type": "execute_result"
    }
   ],
   "source": [
    "X.columns"
   ]
  },
  {
   "cell_type": "markdown",
   "id": "baeee6e1-40fc-4e3f-acb0-7ab30895d60a",
   "metadata": {},
   "source": [
    "# Apply Model To All Time Frames"
   ]
  },
  {
   "cell_type": "code",
   "execution_count": 42,
   "id": "879de573-54a0-47a4-a3e1-960b388835d1",
   "metadata": {},
   "outputs": [
    {
     "name": "stdout",
     "output_type": "stream",
     "text": [
      "week 6\n"
     ]
    },
    {
     "name": "stderr",
     "output_type": "stream",
     "text": [
      "Processing receivers: 100%|████████████| 263120/263120 [30:36<00:00, 143.24it/s]\n"
     ]
    },
    {
     "name": "stdout",
     "output_type": "stream",
     "text": [
      "week 7\n"
     ]
    },
    {
     "name": "stderr",
     "output_type": "stream",
     "text": [
      "Processing receivers: 100%|████████████| 329782/329782 [45:19<00:00, 121.25it/s]\n"
     ]
    },
    {
     "name": "stdout",
     "output_type": "stream",
     "text": [
      "week 8\n"
     ]
    },
    {
     "name": "stderr",
     "output_type": "stream",
     "text": [
      "Processing receivers: 100%|████████████| 312589/312589 [43:53<00:00, 118.72it/s]\n"
     ]
    },
    {
     "name": "stdout",
     "output_type": "stream",
     "text": [
      "week 9\n"
     ]
    },
    {
     "name": "stderr",
     "output_type": "stream",
     "text": [
      "Processing receivers: 100%|████████████| 320737/320737 [47:52<00:00, 111.66it/s]\n"
     ]
    },
    {
     "name": "stdout",
     "output_type": "stream",
     "text": [
      "week 10\n"
     ]
    },
    {
     "name": "stderr",
     "output_type": "stream",
     "text": [
      "Processing receivers: 100%|████████████| 312930/312930 [42:18<00:00, 123.28it/s]\n"
     ]
    },
    {
     "name": "stdout",
     "output_type": "stream",
     "text": [
      "week 11\n"
     ]
    },
    {
     "name": "stderr",
     "output_type": "stream",
     "text": [
      "Processing receivers: 100%|████████████| 287635/287635 [38:01<00:00, 126.07it/s]\n"
     ]
    },
    {
     "name": "stdout",
     "output_type": "stream",
     "text": [
      "week 12\n"
     ]
    },
    {
     "name": "stderr",
     "output_type": "stream",
     "text": [
      "Processing receivers: 100%|████████████| 262074/262074 [30:53<00:00, 141.43it/s]\n"
     ]
    },
    {
     "name": "stdout",
     "output_type": "stream",
     "text": [
      "week 13\n"
     ]
    },
    {
     "name": "stderr",
     "output_type": "stream",
     "text": [
      "Processing receivers: 100%|████████████| 266155/266155 [28:28<00:00, 155.77it/s]\n"
     ]
    },
    {
     "name": "stdout",
     "output_type": "stream",
     "text": [
      "week 14\n"
     ]
    },
    {
     "name": "stderr",
     "output_type": "stream",
     "text": [
      "Processing receivers: 100%|████████████| 253161/253161 [25:29<00:00, 165.55it/s]\n"
     ]
    },
    {
     "name": "stdout",
     "output_type": "stream",
     "text": [
      "week 15\n"
     ]
    },
    {
     "name": "stderr",
     "output_type": "stream",
     "text": [
      "Processing receivers: 100%|████████████| 255400/255400 [24:38<00:00, 172.78it/s]\n"
     ]
    },
    {
     "name": "stdout",
     "output_type": "stream",
     "text": [
      "week 16\n"
     ]
    },
    {
     "name": "stderr",
     "output_type": "stream",
     "text": [
      "Processing receivers: 100%|████████████| 248031/248031 [23:26<00:00, 176.37it/s]\n"
     ]
    },
    {
     "name": "stdout",
     "output_type": "stream",
     "text": [
      "week 17\n"
     ]
    },
    {
     "name": "stderr",
     "output_type": "stream",
     "text": [
      "Processing receivers: 100%|████████████| 271884/271884 [27:07<00:00, 167.04it/s]\n"
     ]
    },
    {
     "name": "stdout",
     "output_type": "stream",
     "text": [
      "week 18\n"
     ]
    },
    {
     "name": "stderr",
     "output_type": "stream",
     "text": [
      "Processing receivers: 100%|████████████| 314128/314128 [33:21<00:00, 156.98it/s]\n"
     ]
    },
    {
     "name": "stdout",
     "output_type": "stream",
     "text": [
      "week 19\n"
     ]
    },
    {
     "name": "stderr",
     "output_type": "stream",
     "text": [
      "Processing receivers: 100%|████████████| 308241/308241 [32:48<00:00, 156.57it/s]\n"
     ]
    },
    {
     "name": "stdout",
     "output_type": "stream",
     "text": [
      "week 20\n"
     ]
    },
    {
     "name": "stderr",
     "output_type": "stream",
     "text": [
      "Processing receivers: 100%|████████████| 287854/287854 [30:15<00:00, 158.59it/s]\n"
     ]
    },
    {
     "name": "stdout",
     "output_type": "stream",
     "text": [
      "week 21\n"
     ]
    },
    {
     "name": "stderr",
     "output_type": "stream",
     "text": [
      "Processing receivers: 100%|████████████| 303975/303975 [34:10<00:00, 148.24it/s]\n"
     ]
    },
    {
     "name": "stdout",
     "output_type": "stream",
     "text": [
      "week 22\n"
     ]
    },
    {
     "name": "stderr",
     "output_type": "stream",
     "text": [
      "Processing receivers: 100%|████████████| 276000/276000 [29:32<00:00, 155.70it/s]\n"
     ]
    }
   ],
   "source": [
    "weeks = {\n",
    "          'week1':tracking1,\n",
    "          'week2':tracking2,\n",
    "          'week3':tracking3,\n",
    "          'week4':tracking4,\n",
    "          'week5':tracking5,\n",
    "          'week6':tracking6,\n",
    "          'week7':tracking7,\n",
    "          'week8':tracking8,\n",
    "          'week9':tracking9,\n",
    "          'week10':tracking10,\n",
    "          'week11':tracking11,\n",
    "          'week12':tracking12,\n",
    "          'week13':tracking13,\n",
    "          'week14':tracking14,\n",
    "          'week15':tracking15,\n",
    "          'week16':tracking16,\n",
    "          'week17':tracking17\n",
    "        }\n",
    "\n",
    "for key, week in weeks.items():\n",
    "    \n",
    "    print(key)\n",
    "    df = week.copy()\n",
    "\n",
    "    # Filter receivers (e.g., WR) and defenders (e.g., CB)\n",
    "    receivers = df[df['position'].isin(['WR', 'TE'])]\n",
    "    defenders = df[df['position'].isin(defense_positions_non_line)]\n",
    "    blockers = df[df['position'].isin(offense_positions_non_line)]\n",
    "    \n",
    "    # Initialize a list to store the data for the new dataframe\n",
    "    data_for_new_df = []\n",
    "    \n",
    "    # Iterate through each frameId of the receiver and find the closest defender at each frameId\n",
    "    for _, receiver in tqdm(receivers.iterrows(), total=receivers.shape[0], desc=\"Processing receivers\"):\n",
    "        # Filter defenders for the same gameId and playId as the receiver at the same frameId\n",
    "        defenders_in_frame = defenders[(defenders['gameId'] == receiver['gameId']) & \n",
    "                                       (defenders['playId'] == receiver['playId']) & \n",
    "                                       (defenders['frameId'] == receiver['frameId'])]\n",
    "    \n",
    "        \n",
    "        # Calculate the Euclidean distance between the receiver and all defenders at the same frameId\n",
    "        distances = np.sqrt((defenders_in_frame['x'] - receiver['x'])**2 + (defenders_in_frame['y'] - receiver['y'])**2)\n",
    "    \n",
    "        if len(distances) == 0:\n",
    "            continue\n",
    "        \n",
    "        # Find the index of the closest defender\n",
    "        closest_defender_idx = distances.idxmin()\n",
    "        closest_defender = defenders_in_frame.loc[closest_defender_idx]\n",
    "    \n",
    "        blockers_in_frame = blockers[(blockers['gameId'] == closest_defender['gameId']) & \n",
    "                                   (blockers['playId'] == closest_defender['playId']) & \n",
    "                                   (blockers['frameId'] == closest_defender['frameId']) & \n",
    "                                    (blockers['nflId'] != receiver['nflId'])]\n",
    "    \n",
    "        distances_blockers = np.sqrt((blockers_in_frame['x'] - closest_defender['x'])**2 + (blockers_in_frame['y'] - closest_defender['y'])**2)\n",
    "    \n",
    "        if len(distances_blockers) == 0:\n",
    "            continue\n",
    "    \n",
    "        closest_blocker_idx = distances_blockers.idxmin()\n",
    "        closest_blocker = blockers_in_frame.loc[closest_blocker_idx]\n",
    "        \n",
    "        # Calculate the closest defender distance from the receiver\n",
    "        closest_defender_distance = distances.min()\n",
    "        closest_blocker_distance = distances_blockers.min()\n",
    "        \n",
    "        # Add the data to the list\n",
    "        data_for_new_df.append({\n",
    "            'gameId':receiver['gameId'],\n",
    "            'playId':receiver['playId'],\n",
    "            'frameId':receiver['frameId'],\n",
    "            'receiver_nflId':receiver['nflId'],\n",
    "            'closest_defender_nflId':closest_defender['nflId'],\n",
    "            'closest_blocker_nflId':closest_blocker['nflId'],\n",
    "            'closest_defender_pass_caught_x': closest_defender['x'],\n",
    "            'closest_defender_pass_caught_y': closest_defender['y'],\n",
    "            'closest_defender_pass_caught_s': closest_defender['s'],\n",
    "            'closest_defender_pass_caught_a': closest_defender['a'],\n",
    "            'closest_defender_pass_caught_dis': closest_defender['dis'],\n",
    "            'closest_defender_pass_caught_o': closest_defender['o'],\n",
    "            'closest_defender_pass_caught_dir': closest_defender['dir'],\n",
    "            'closest_defender_distance_from_target_receiver': closest_defender_distance, \n",
    "            \n",
    "            'targeted_receiver_pass_caught_x': receiver['x'],\n",
    "            'targeted_receiver_pass_caught_y': receiver['y'],\n",
    "            'targeted_receiver_pass_caught_s': receiver['s'],\n",
    "            'targeted_receiver_pass_caught_a': receiver['a'],\n",
    "            'targeted_receiver_pass_caught_dis': receiver['dis'],\n",
    "            'targeted_receiver_pass_caught_o': receiver['o'],\n",
    "            'targeted_receiver_pass_caught_dir': receiver['dir'],\n",
    "    \n",
    "            'closest_blocker_pass_caught_x': closest_blocker['x'],\n",
    "            'closest_blocker_pass_caught_y': closest_blocker['y'],\n",
    "            'closest_blocker_pass_caught_s': closest_blocker['s'],\n",
    "            'closest_blocker_pass_caught_a': closest_blocker['a'],\n",
    "            'closest_blocker_pass_caught_dis': closest_blocker['dis'],\n",
    "            'closest_blocker_pass_caught_o': closest_blocker['o'],\n",
    "            'closest_blocker_pass_caught_dir': closest_blocker['dir'],\n",
    "    \n",
    "            'closest_blocker_distance_from_closest_defender':closest_blocker_distance,\n",
    "            'absoluteYardlineNumber':plays[(plays['gameId'] == receiver['gameId']) & (plays['playId'] == receiver['playId'])]['absoluteYardlineNumber'].iloc[0],\n",
    "    \n",
    "            'targeted_receiver_pass_caught_o_dir_diff': receiver['o'] - receiver['dir'],\n",
    "            'closest_defender_pass_caught_o_dir_diff': closest_defender['o'] - closest_defender['dir'],\n",
    "            \n",
    "            'targeted_closest_dir_difference': receiver['dir'] - closest_defender['dir'],\n",
    "            'targeted_closest_o_difference': receiver['o'] - closest_defender['o'],\n",
    "    \n",
    "            'targeted_closest_a_difference': receiver['a'] - closest_defender['a'],\n",
    "            'targeted_closest_s_difference': receiver['s'] - closest_defender['s'],\n",
    "            'targeted_closest_dis_difference': receiver['dis'] - closest_defender['dis'],\n",
    "    \n",
    "            'targeted_receiver_distance_from_oob': min(abs(receiver['y'] - 0), abs(receiver['y'] - 53.3)),\n",
    "            'closest_defender_distance_from_oob': min(abs(closest_defender['y'] - 0), abs(closest_defender['y'] - 53.3)),\n",
    "            'closest_blocker_distance_from_oob': min(abs(closest_blocker['y'] - 0), abs(closest_blocker['y'] - 53.3)),\n",
    "            'closest_blocker_distance_from_target_receiver': np.sqrt((closest_blocker['x'] - receiver['x'])**2 + (closest_blocker['y'] - receiver['y'])**2)\n",
    "            \n",
    "        })\n",
    "    \n",
    "    # Convert the list into a DataFrame\n",
    "    new_df = pd.DataFrame(data_for_new_df)\n",
    "    \n",
    "    predictions = grid_search.predict(new_df.iloc[:, 6:])\n",
    "    \n",
    "    new_df = new_df.join(pd.Series(predictions, name='YAC'))\n",
    "    # new_df.to_csv(f\"./output/yac_{key}.csv\", index=False)\n"
   ]
  },
  {
   "cell_type": "code",
   "execution_count": null,
   "id": "01b31434-5356-41fa-9276-1ccd86df6571",
   "metadata": {},
   "outputs": [],
   "source": []
  }
 ],
 "metadata": {
  "kernelspec": {
   "display_name": "Python 3 (ipykernel)",
   "language": "python",
   "name": "python3"
  },
  "language_info": {
   "codemirror_mode": {
    "name": "ipython",
    "version": 3
   },
   "file_extension": ".py",
   "mimetype": "text/x-python",
   "name": "python",
   "nbconvert_exporter": "python",
   "pygments_lexer": "ipython3",
   "version": "3.11.10"
  }
 },
 "nbformat": 4,
 "nbformat_minor": 5
}
