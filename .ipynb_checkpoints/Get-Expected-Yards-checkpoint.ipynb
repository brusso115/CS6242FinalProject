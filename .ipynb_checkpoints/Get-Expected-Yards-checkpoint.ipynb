{
 "cells": [
  {
   "cell_type": "code",
   "execution_count": 14,
   "id": "5115f020-7778-4bd8-a548-0439f899c8b6",
   "metadata": {},
   "outputs": [],
   "source": [
    "import pandas as pd\n",
    "import numpy as np"
   ]
  },
  {
   "cell_type": "code",
   "execution_count": 15,
   "id": "696ac44a-eeac-4196-a681-a0ccef4aedfa",
   "metadata": {},
   "outputs": [],
   "source": [
    "cp_dot = pd.read_csv('./output/completion_probabilities_depth_of_target.csv')\n",
    "yac = pd.read_csv('./output/yac.csv')\n"
   ]
  },
  {
   "cell_type": "code",
   "execution_count": 16,
   "id": "20ce0f06-98f5-413d-b04f-72c0fe78544c",
   "metadata": {},
   "outputs": [],
   "source": [
    "df = cp_dot.merge(yac, on=['gameId', 'playId', 'frameId', 'nflId'])"
   ]
  },
  {
   "cell_type": "code",
   "execution_count": 17,
   "id": "cde22df9-1db0-475c-8379-3ee747fbd6a0",
   "metadata": {},
   "outputs": [],
   "source": [
    "df['expected_yards'] = df['completion_probability'] * (df['depth_of_target'] + df['YAC'])"
   ]
  },
  {
   "cell_type": "code",
   "execution_count": 19,
   "id": "31fc090d-939f-4464-b051-0bd816aceac8",
   "metadata": {},
   "outputs": [],
   "source": [
    "# df.to_csv('output/output_all.csv', index=False)"
   ]
  },
  {
   "cell_type": "code",
   "execution_count": null,
   "id": "338a3a39-99d5-4ca9-a2b4-a2b1cbf15fe1",
   "metadata": {},
   "outputs": [],
   "source": []
  }
 ],
 "metadata": {
  "kernelspec": {
   "display_name": "Python 3 (ipykernel)",
   "language": "python",
   "name": "python3"
  },
  "language_info": {
   "codemirror_mode": {
    "name": "ipython",
    "version": 3
   },
   "file_extension": ".py",
   "mimetype": "text/x-python",
   "name": "python",
   "nbconvert_exporter": "python",
   "pygments_lexer": "ipython3",
   "version": "3.11.10"
  }
 },
 "nbformat": 4,
 "nbformat_minor": 5
}
